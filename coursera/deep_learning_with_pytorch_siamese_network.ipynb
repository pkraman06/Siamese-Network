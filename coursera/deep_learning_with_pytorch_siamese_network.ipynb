{
  "cells": [
    {
      "cell_type": "markdown",
      "metadata": {
        "id": "view-in-github",
        "colab_type": "text"
      },
      "source": [
        "<a href=\"https://colab.research.google.com/github/pkraman06/Siamese-Network/blob/main/coursera/deep_learning_with_pytorch_siamese_network.ipynb\" target=\"_parent\"><img src=\"https://colab.research.google.com/assets/colab-badge.svg\" alt=\"Open In Colab\"/></a>"
      ]
    },
    {
      "cell_type": "code",
      "source": [
        "!pip install segmentation-models-pytorch\n",
        "!pip install -U git+https://github.com/albumentations-team/albumentations\n",
        "!pip install --upgrade opencv-contrib-python"
      ],
      "metadata": {
        "id": "ng5kt7rFN2VZ",
        "colab": {
          "base_uri": "https://localhost:8080/"
        },
        "collapsed": true,
        "outputId": "da59a2d3-9508-4c35-c292-43c4d4a2b403"
      },
      "execution_count": 1,
      "outputs": [
        {
          "output_type": "stream",
          "name": "stdout",
          "text": [
            "Collecting segmentation-models-pytorch\n",
            "  Downloading segmentation_models_pytorch-0.5.0-py3-none-any.whl.metadata (17 kB)\n",
            "Requirement already satisfied: huggingface-hub>=0.24 in /usr/local/lib/python3.12/dist-packages (from segmentation-models-pytorch) (0.34.4)\n",
            "Requirement already satisfied: numpy>=1.19.3 in /usr/local/lib/python3.12/dist-packages (from segmentation-models-pytorch) (2.0.2)\n",
            "Requirement already satisfied: pillow>=8 in /usr/local/lib/python3.12/dist-packages (from segmentation-models-pytorch) (11.3.0)\n",
            "Requirement already satisfied: safetensors>=0.3.1 in /usr/local/lib/python3.12/dist-packages (from segmentation-models-pytorch) (0.6.2)\n",
            "Requirement already satisfied: timm>=0.9 in /usr/local/lib/python3.12/dist-packages (from segmentation-models-pytorch) (1.0.19)\n",
            "Requirement already satisfied: torch>=1.8 in /usr/local/lib/python3.12/dist-packages (from segmentation-models-pytorch) (2.8.0+cu126)\n",
            "Requirement already satisfied: torchvision>=0.9 in /usr/local/lib/python3.12/dist-packages (from segmentation-models-pytorch) (0.23.0+cu126)\n",
            "Requirement already satisfied: tqdm>=4.42.1 in /usr/local/lib/python3.12/dist-packages (from segmentation-models-pytorch) (4.67.1)\n",
            "Requirement already satisfied: filelock in /usr/local/lib/python3.12/dist-packages (from huggingface-hub>=0.24->segmentation-models-pytorch) (3.19.1)\n",
            "Requirement already satisfied: fsspec>=2023.5.0 in /usr/local/lib/python3.12/dist-packages (from huggingface-hub>=0.24->segmentation-models-pytorch) (2025.3.0)\n",
            "Requirement already satisfied: packaging>=20.9 in /usr/local/lib/python3.12/dist-packages (from huggingface-hub>=0.24->segmentation-models-pytorch) (25.0)\n",
            "Requirement already satisfied: pyyaml>=5.1 in /usr/local/lib/python3.12/dist-packages (from huggingface-hub>=0.24->segmentation-models-pytorch) (6.0.2)\n",
            "Requirement already satisfied: requests in /usr/local/lib/python3.12/dist-packages (from huggingface-hub>=0.24->segmentation-models-pytorch) (2.32.4)\n",
            "Requirement already satisfied: typing-extensions>=3.7.4.3 in /usr/local/lib/python3.12/dist-packages (from huggingface-hub>=0.24->segmentation-models-pytorch) (4.15.0)\n",
            "Requirement already satisfied: hf-xet<2.0.0,>=1.1.3 in /usr/local/lib/python3.12/dist-packages (from huggingface-hub>=0.24->segmentation-models-pytorch) (1.1.9)\n",
            "Requirement already satisfied: setuptools in /usr/local/lib/python3.12/dist-packages (from torch>=1.8->segmentation-models-pytorch) (75.2.0)\n",
            "Requirement already satisfied: sympy>=1.13.3 in /usr/local/lib/python3.12/dist-packages (from torch>=1.8->segmentation-models-pytorch) (1.13.3)\n",
            "Requirement already satisfied: networkx in /usr/local/lib/python3.12/dist-packages (from torch>=1.8->segmentation-models-pytorch) (3.5)\n",
            "Requirement already satisfied: jinja2 in /usr/local/lib/python3.12/dist-packages (from torch>=1.8->segmentation-models-pytorch) (3.1.6)\n",
            "Requirement already satisfied: nvidia-cuda-nvrtc-cu12==12.6.77 in /usr/local/lib/python3.12/dist-packages (from torch>=1.8->segmentation-models-pytorch) (12.6.77)\n",
            "Requirement already satisfied: nvidia-cuda-runtime-cu12==12.6.77 in /usr/local/lib/python3.12/dist-packages (from torch>=1.8->segmentation-models-pytorch) (12.6.77)\n",
            "Requirement already satisfied: nvidia-cuda-cupti-cu12==12.6.80 in /usr/local/lib/python3.12/dist-packages (from torch>=1.8->segmentation-models-pytorch) (12.6.80)\n",
            "Requirement already satisfied: nvidia-cudnn-cu12==9.10.2.21 in /usr/local/lib/python3.12/dist-packages (from torch>=1.8->segmentation-models-pytorch) (9.10.2.21)\n",
            "Requirement already satisfied: nvidia-cublas-cu12==12.6.4.1 in /usr/local/lib/python3.12/dist-packages (from torch>=1.8->segmentation-models-pytorch) (12.6.4.1)\n",
            "Requirement already satisfied: nvidia-cufft-cu12==11.3.0.4 in /usr/local/lib/python3.12/dist-packages (from torch>=1.8->segmentation-models-pytorch) (11.3.0.4)\n",
            "Requirement already satisfied: nvidia-curand-cu12==10.3.7.77 in /usr/local/lib/python3.12/dist-packages (from torch>=1.8->segmentation-models-pytorch) (10.3.7.77)\n",
            "Requirement already satisfied: nvidia-cusolver-cu12==11.7.1.2 in /usr/local/lib/python3.12/dist-packages (from torch>=1.8->segmentation-models-pytorch) (11.7.1.2)\n",
            "Requirement already satisfied: nvidia-cusparse-cu12==12.5.4.2 in /usr/local/lib/python3.12/dist-packages (from torch>=1.8->segmentation-models-pytorch) (12.5.4.2)\n",
            "Requirement already satisfied: nvidia-cusparselt-cu12==0.7.1 in /usr/local/lib/python3.12/dist-packages (from torch>=1.8->segmentation-models-pytorch) (0.7.1)\n",
            "Requirement already satisfied: nvidia-nccl-cu12==2.27.3 in /usr/local/lib/python3.12/dist-packages (from torch>=1.8->segmentation-models-pytorch) (2.27.3)\n",
            "Requirement already satisfied: nvidia-nvtx-cu12==12.6.77 in /usr/local/lib/python3.12/dist-packages (from torch>=1.8->segmentation-models-pytorch) (12.6.77)\n",
            "Requirement already satisfied: nvidia-nvjitlink-cu12==12.6.85 in /usr/local/lib/python3.12/dist-packages (from torch>=1.8->segmentation-models-pytorch) (12.6.85)\n",
            "Requirement already satisfied: nvidia-cufile-cu12==1.11.1.6 in /usr/local/lib/python3.12/dist-packages (from torch>=1.8->segmentation-models-pytorch) (1.11.1.6)\n",
            "Requirement already satisfied: triton==3.4.0 in /usr/local/lib/python3.12/dist-packages (from torch>=1.8->segmentation-models-pytorch) (3.4.0)\n",
            "Requirement already satisfied: mpmath<1.4,>=1.1.0 in /usr/local/lib/python3.12/dist-packages (from sympy>=1.13.3->torch>=1.8->segmentation-models-pytorch) (1.3.0)\n",
            "Requirement already satisfied: MarkupSafe>=2.0 in /usr/local/lib/python3.12/dist-packages (from jinja2->torch>=1.8->segmentation-models-pytorch) (3.0.2)\n",
            "Requirement already satisfied: charset_normalizer<4,>=2 in /usr/local/lib/python3.12/dist-packages (from requests->huggingface-hub>=0.24->segmentation-models-pytorch) (3.4.3)\n",
            "Requirement already satisfied: idna<4,>=2.5 in /usr/local/lib/python3.12/dist-packages (from requests->huggingface-hub>=0.24->segmentation-models-pytorch) (3.10)\n",
            "Requirement already satisfied: urllib3<3,>=1.21.1 in /usr/local/lib/python3.12/dist-packages (from requests->huggingface-hub>=0.24->segmentation-models-pytorch) (2.5.0)\n",
            "Requirement already satisfied: certifi>=2017.4.17 in /usr/local/lib/python3.12/dist-packages (from requests->huggingface-hub>=0.24->segmentation-models-pytorch) (2025.8.3)\n",
            "Downloading segmentation_models_pytorch-0.5.0-py3-none-any.whl (154 kB)\n",
            "\u001b[2K   \u001b[90m━━━━━━━━━━━━━━━━━━━━━━━━━━━━━━━━━━━━━━━━\u001b[0m \u001b[32m154.8/154.8 kB\u001b[0m \u001b[31m11.9 MB/s\u001b[0m eta \u001b[36m0:00:00\u001b[0m\n",
            "\u001b[?25hInstalling collected packages: segmentation-models-pytorch\n",
            "Successfully installed segmentation-models-pytorch-0.5.0\n",
            "Collecting git+https://github.com/albumentations-team/albumentations\n",
            "  Cloning https://github.com/albumentations-team/albumentations to /tmp/pip-req-build-ggo45x0w\n",
            "  Running command git clone --filter=blob:none --quiet https://github.com/albumentations-team/albumentations /tmp/pip-req-build-ggo45x0w\n",
            "  Resolved https://github.com/albumentations-team/albumentations to commit 66212d77a44927a29d6a0e81621d3c27afbd929c\n",
            "  Installing build dependencies ... \u001b[?25l\u001b[?25hdone\n",
            "  Getting requirements to build wheel ... \u001b[?25l\u001b[?25hdone\n",
            "  Preparing metadata (pyproject.toml) ... \u001b[?25l\u001b[?25hdone\n",
            "Requirement already satisfied: numpy>=1.24.4 in /usr/local/lib/python3.12/dist-packages (from albumentations==2.0.8) (2.0.2)\n",
            "Requirement already satisfied: scipy>=1.10.0 in /usr/local/lib/python3.12/dist-packages (from albumentations==2.0.8) (1.16.1)\n",
            "Requirement already satisfied: PyYAML in /usr/local/lib/python3.12/dist-packages (from albumentations==2.0.8) (6.0.2)\n",
            "Requirement already satisfied: pydantic>=2.9.2 in /usr/local/lib/python3.12/dist-packages (from albumentations==2.0.8) (2.11.7)\n",
            "Collecting albucore==0.0.28 (from albumentations==2.0.8)\n",
            "  Downloading albucore-0.0.28-py3-none-any.whl.metadata (5.3 kB)\n",
            "Requirement already satisfied: opencv-python-headless>=4.9.0.80 in /usr/local/lib/python3.12/dist-packages (from albumentations==2.0.8) (4.12.0.88)\n",
            "Requirement already satisfied: stringzilla>=3.10.4 in /usr/local/lib/python3.12/dist-packages (from albucore==0.0.28->albumentations==2.0.8) (3.12.6)\n",
            "Requirement already satisfied: simsimd>=5.9.2 in /usr/local/lib/python3.12/dist-packages (from albucore==0.0.28->albumentations==2.0.8) (6.5.1)\n",
            "Requirement already satisfied: annotated-types>=0.6.0 in /usr/local/lib/python3.12/dist-packages (from pydantic>=2.9.2->albumentations==2.0.8) (0.7.0)\n",
            "Requirement already satisfied: pydantic-core==2.33.2 in /usr/local/lib/python3.12/dist-packages (from pydantic>=2.9.2->albumentations==2.0.8) (2.33.2)\n",
            "Requirement already satisfied: typing-extensions>=4.12.2 in /usr/local/lib/python3.12/dist-packages (from pydantic>=2.9.2->albumentations==2.0.8) (4.15.0)\n",
            "Requirement already satisfied: typing-inspection>=0.4.0 in /usr/local/lib/python3.12/dist-packages (from pydantic>=2.9.2->albumentations==2.0.8) (0.4.1)\n",
            "Downloading albucore-0.0.28-py3-none-any.whl (18 kB)\n",
            "Installing collected packages: albucore\n",
            "  Attempting uninstall: albucore\n",
            "    Found existing installation: albucore 0.0.24\n",
            "    Uninstalling albucore-0.0.24:\n",
            "      Successfully uninstalled albucore-0.0.24\n",
            "\u001b[31mERROR: pip's dependency resolver does not currently take into account all the packages that are installed. This behaviour is the source of the following dependency conflicts.\n",
            "albumentations 2.0.8 requires albucore==0.0.24, but you have albucore 0.0.28 which is incompatible.\u001b[0m\u001b[31m\n",
            "\u001b[0mSuccessfully installed albucore-0.0.28\n",
            "Requirement already satisfied: opencv-contrib-python in /usr/local/lib/python3.12/dist-packages (4.12.0.88)\n",
            "Requirement already satisfied: numpy<2.3.0,>=2 in /usr/local/lib/python3.12/dist-packages (from opencv-contrib-python) (2.0.2)\n"
          ]
        }
      ],
      "id": "ng5kt7rFN2VZ"
    },
    {
      "cell_type": "markdown",
      "source": [
        "# Download Full Dataset\n",
        "\n",
        "Market-1501 dataset :\n",
        "https://www.kaggle.com/pengcw1/market-1501"
      ],
      "metadata": {
        "id": "JEads6Mm4UEV"
      },
      "id": "JEads6Mm4UEV"
    },
    {
      "cell_type": "code",
      "execution_count": 2,
      "metadata": {
        "id": "Tnclntis4TRX",
        "colab": {
          "base_uri": "https://localhost:8080/"
        },
        "outputId": "b1109674-a099-44a4-9d2f-ce095a782879"
      },
      "outputs": [
        {
          "output_type": "stream",
          "name": "stdout",
          "text": [
            "Cloning into 'Person-Re-Id-Dataset'...\n",
            "remote: Enumerating objects: 12942, done.\u001b[K\n",
            "remote: Counting objects: 100% (12942/12942), done.\u001b[K\n",
            "remote: Compressing objects: 100% (12942/12942), done.\u001b[K\n",
            "remote: Total 12942 (delta 0), reused 12942 (delta 0), pack-reused 0 (from 0)\u001b[K\n",
            "Receiving objects: 100% (12942/12942), 27.68 MiB | 26.86 MiB/s, done.\n"
          ]
        }
      ],
      "source": [
        "!git clone https://github.com/parth1620/Person-Re-Id-Dataset"
      ],
      "id": "Tnclntis4TRX"
    },
    {
      "cell_type": "markdown",
      "id": "24162e53",
      "metadata": {
        "_cell_guid": "b1076dfc-b9ad-4769-8c92-a6c4dae69d19",
        "_uuid": "8f2839f25d086af736a60e9eeb907d3b93b6e0e5",
        "papermill": {
          "duration": 0.011888,
          "end_time": "2023-05-14T06:38:37.210027",
          "exception": false,
          "start_time": "2023-05-14T06:38:37.198139",
          "status": "completed"
        },
        "tags": [],
        "id": "24162e53"
      },
      "source": [
        "# Deep Learning with PyTorch : Siamese Network\n",
        "\n",
        "*Author: Eda AYDIN*"
      ]
    },
    {
      "cell_type": "markdown",
      "id": "4d117283",
      "metadata": {
        "papermill": {
          "duration": 0.010321,
          "end_time": "2023-05-14T06:38:37.231108",
          "exception": false,
          "start_time": "2023-05-14T06:38:37.220787",
          "status": "completed"
        },
        "tags": [],
        "id": "4d117283"
      },
      "source": [
        "# Siamese Network\n",
        "\n",
        "![siamese-network.png](https://miro.medium.com/v2/resize:fit:1100/format:webp/1*bJABur9wzFNACosQkim8kw.png)\n",
        "\n",
        "[Eng]\n",
        "\n",
        "A Siamese Network is a type of neural network architecture that is used for tasks that involve finding similarities or differences between two input samples. The network consists of two identical subnetworks that share the same set of weights and are trained simultaneously.\n",
        "\n",
        "The basic idea behind a Siamese Network is to learn a similarity metric between two input samples. In other words, the network is trained to output a high value when the two input samples are similar and a low value when they are dissimilar. This makes it useful for a variety of applications, such as image or text similarity matching, face recognition, and signature verification.\n",
        "\n",
        "One of main advantages of a Siamese Network is that it can be trained with very few examples, making it useful for applications where data is limited. Additionally, the shared weights between the two subnetworks allow the model to generalize well to new inputs.\n",
        "\n",
        "Siamese Networks have been shown to be effective in a wide range of applications, including image recognition, classification, and speech recognition. They have also been applied to natural language processing tasks such as sentence similarity and paraphrase detection.\n",
        "\n",
        "\n",
        "[Tr]\n",
        "\n",
        "Siamese Network, iki giriş örneği arasındaki benzerlik ve farklılıkları bulmak için kullanılan bir sinir ağı mimarisidir. Ağ, iki aynı alt ağdan oluşur ve her biri aynı ağırlık kümesini paylaşır.\n",
        "\n",
        "Siamese Network'ün temel fikri, iki giriş örneği arasındaki benzerliği öğrenmektir. Bu nedenle, ağ, iki giriş örneği benzer olduğunda yüksek bir çıktı değeri verir ve farklı olduğunda ise düşük bir çıktı değeri verir. Bu, örneğin görüntü veya metin benzerliği eşleştirme, yüz tanıma veya imza doğrulama gibi birçok uygulama için kullanışlıdır.\n",
        "\n",
        "Siamese Network'ü kullanmanın en büyük avantajı, sınırlı veriyle bile eğitilebilmesidir. Ayrıca, alt ağlar arasındaki ağırlık paylaşımı, modelin yeni girişlere iyi genelleme yapabilmesine olanak tanır.\n",
        "\n",
        "Siamese Network, görüntü tanıma, sınıflandırma ve konuşma tanıma gibi birçok alanda etkili olduğu kanıtlanmıştır. Ayrıca, cümle benzerliği ve paraphrase tespiti gibi doğal dil işleme görevleri için de uygulanabilir."
      ]
    },
    {
      "cell_type": "code",
      "execution_count": 3,
      "id": "e33d3d3e",
      "metadata": {
        "execution": {
          "iopub.execute_input": "2023-05-14T06:39:11.667682Z",
          "iopub.status.busy": "2023-05-14T06:39:11.667330Z",
          "iopub.status.idle": "2023-05-14T06:39:11.672688Z",
          "shell.execute_reply": "2023-05-14T06:39:11.671397Z"
        },
        "papermill": {
          "duration": 0.02201,
          "end_time": "2023-05-14T06:39:11.674971",
          "exception": false,
          "start_time": "2023-05-14T06:39:11.652961",
          "status": "completed"
        },
        "tags": [],
        "id": "e33d3d3e"
      },
      "outputs": [],
      "source": [
        "import sys\n",
        "sys.path.append('/content/Person-Re-Id-Dataset')"
      ]
    },
    {
      "cell_type": "code",
      "execution_count": 4,
      "id": "0a8fb310",
      "metadata": {
        "execution": {
          "iopub.execute_input": "2023-05-14T06:39:11.702765Z",
          "iopub.status.busy": "2023-05-14T06:39:11.702476Z",
          "iopub.status.idle": "2023-05-14T06:39:16.789882Z",
          "shell.execute_reply": "2023-05-14T06:39:16.788768Z"
        },
        "papermill": {
          "duration": 5.105013,
          "end_time": "2023-05-14T06:39:16.793004",
          "exception": false,
          "start_time": "2023-05-14T06:39:11.687991",
          "status": "completed"
        },
        "tags": [],
        "id": "0a8fb310"
      },
      "outputs": [],
      "source": [
        "import pandas as pd\n",
        "import numpy as np\n",
        "import matplotlib.pyplot as plt\n",
        "import torch\n",
        "\n",
        "\"\"\"\n",
        "Timm: PyTorch Image Models (timm) is a library for state-of-the-art-image classification, containing a collection of image models, optimizers, schedulers, augmentations and much more.\n",
        "\"\"\"\n",
        "import timm\n",
        "\n",
        "import torch.nn.functional as F\n",
        "from torch import nn\n",
        "from torch.utils.data import Dataset, DataLoader\n",
        "\n",
        "from skimage import io\n",
        "from sklearn.model_selection import train_test_split\n",
        "\n",
        "\"\"\"\n",
        "tqdm is a library that is used for creating Python Progress Bars. It gets its name from the Arabic name taqaddum, which means 'progress. '\n",
        "\"\"\"\n",
        "from tqdm import tqdm"
      ]
    },
    {
      "cell_type": "markdown",
      "id": "e7ff7810",
      "metadata": {
        "papermill": {
          "duration": 0.014411,
          "end_time": "2023-05-14T06:39:16.821075",
          "exception": false,
          "start_time": "2023-05-14T06:39:16.806664",
          "status": "completed"
        },
        "tags": [],
        "id": "e7ff7810"
      },
      "source": [
        "# Configurations"
      ]
    },
    {
      "cell_type": "code",
      "execution_count": 5,
      "id": "f9437e7d",
      "metadata": {
        "execution": {
          "iopub.execute_input": "2023-05-14T06:39:16.851424Z",
          "iopub.status.busy": "2023-05-14T06:39:16.850324Z",
          "iopub.status.idle": "2023-05-14T06:39:16.856827Z",
          "shell.execute_reply": "2023-05-14T06:39:16.855721Z"
        },
        "papermill": {
          "duration": 0.023712,
          "end_time": "2023-05-14T06:39:16.859282",
          "exception": false,
          "start_time": "2023-05-14T06:39:16.835570",
          "status": "completed"
        },
        "tags": [],
        "id": "f9437e7d"
      },
      "outputs": [],
      "source": [
        "DATA_DIR = \"/content/Person-Re-Id-Dataset/train/\"\n",
        "CSV_FILE = \"/content/Person-Re-Id-Dataset/train.csv\"\n",
        "\n",
        "BATCH_SIZE = 32\n",
        "LR = 0.001\n",
        "EPOCHS = 15\n",
        "\n",
        "DEVICE = 'cuda'"
      ]
    },
    {
      "cell_type": "code",
      "execution_count": 6,
      "id": "df9c2664",
      "metadata": {
        "execution": {
          "iopub.execute_input": "2023-05-14T06:39:16.887075Z",
          "iopub.status.busy": "2023-05-14T06:39:16.885967Z",
          "iopub.status.idle": "2023-05-14T06:39:16.917225Z",
          "shell.execute_reply": "2023-05-14T06:39:16.916104Z"
        },
        "papermill": {
          "duration": 0.047596,
          "end_time": "2023-05-14T06:39:16.919730",
          "exception": false,
          "start_time": "2023-05-14T06:39:16.872134",
          "status": "completed"
        },
        "tags": [],
        "colab": {
          "base_uri": "https://localhost:8080/",
          "height": 206
        },
        "id": "df9c2664",
        "outputId": "0ac8ccd0-f42e-49ca-d72d-31f7c726874f"
      },
      "outputs": [
        {
          "output_type": "execute_result",
          "data": {
            "text/plain": [
              "                    Anchor                 Negative                 Positive\n",
              "0  1420_c5s3_052165_01.jpg  1334_c6s3_061492_05.jpg  1420_c3s3_051678_01.jpg\n",
              "1  1420_c3s3_061978_03.jpg  0234_c3s3_079494_02.jpg  1420_c6s3_085567_02.jpg\n",
              "2  1420_c5s3_062565_05.jpg  0475_c2s1_122816_08.jpg  1420_c3s3_051653_01.jpg\n",
              "3  1420_c6s3_085592_04.jpg  0662_c2s2_036662_05.jpg  1420_c1s6_013446_04.jpg\n",
              "4  0663_c5s3_085987_03.jpg  1463_c2s3_098102_02.jpg  0663_c3s3_085544_06.jpg"
            ],
            "text/html": [
              "\n",
              "  <div id=\"df-73960070-ce96-447b-8ca7-af28a5605951\" class=\"colab-df-container\">\n",
              "    <div>\n",
              "<style scoped>\n",
              "    .dataframe tbody tr th:only-of-type {\n",
              "        vertical-align: middle;\n",
              "    }\n",
              "\n",
              "    .dataframe tbody tr th {\n",
              "        vertical-align: top;\n",
              "    }\n",
              "\n",
              "    .dataframe thead th {\n",
              "        text-align: right;\n",
              "    }\n",
              "</style>\n",
              "<table border=\"1\" class=\"dataframe\">\n",
              "  <thead>\n",
              "    <tr style=\"text-align: right;\">\n",
              "      <th></th>\n",
              "      <th>Anchor</th>\n",
              "      <th>Negative</th>\n",
              "      <th>Positive</th>\n",
              "    </tr>\n",
              "  </thead>\n",
              "  <tbody>\n",
              "    <tr>\n",
              "      <th>0</th>\n",
              "      <td>1420_c5s3_052165_01.jpg</td>\n",
              "      <td>1334_c6s3_061492_05.jpg</td>\n",
              "      <td>1420_c3s3_051678_01.jpg</td>\n",
              "    </tr>\n",
              "    <tr>\n",
              "      <th>1</th>\n",
              "      <td>1420_c3s3_061978_03.jpg</td>\n",
              "      <td>0234_c3s3_079494_02.jpg</td>\n",
              "      <td>1420_c6s3_085567_02.jpg</td>\n",
              "    </tr>\n",
              "    <tr>\n",
              "      <th>2</th>\n",
              "      <td>1420_c5s3_062565_05.jpg</td>\n",
              "      <td>0475_c2s1_122816_08.jpg</td>\n",
              "      <td>1420_c3s3_051653_01.jpg</td>\n",
              "    </tr>\n",
              "    <tr>\n",
              "      <th>3</th>\n",
              "      <td>1420_c6s3_085592_04.jpg</td>\n",
              "      <td>0662_c2s2_036662_05.jpg</td>\n",
              "      <td>1420_c1s6_013446_04.jpg</td>\n",
              "    </tr>\n",
              "    <tr>\n",
              "      <th>4</th>\n",
              "      <td>0663_c5s3_085987_03.jpg</td>\n",
              "      <td>1463_c2s3_098102_02.jpg</td>\n",
              "      <td>0663_c3s3_085544_06.jpg</td>\n",
              "    </tr>\n",
              "  </tbody>\n",
              "</table>\n",
              "</div>\n",
              "    <div class=\"colab-df-buttons\">\n",
              "\n",
              "  <div class=\"colab-df-container\">\n",
              "    <button class=\"colab-df-convert\" onclick=\"convertToInteractive('df-73960070-ce96-447b-8ca7-af28a5605951')\"\n",
              "            title=\"Convert this dataframe to an interactive table.\"\n",
              "            style=\"display:none;\">\n",
              "\n",
              "  <svg xmlns=\"http://www.w3.org/2000/svg\" height=\"24px\" viewBox=\"0 -960 960 960\">\n",
              "    <path d=\"M120-120v-720h720v720H120Zm60-500h600v-160H180v160Zm220 220h160v-160H400v160Zm0 220h160v-160H400v160ZM180-400h160v-160H180v160Zm440 0h160v-160H620v160ZM180-180h160v-160H180v160Zm440 0h160v-160H620v160Z\"/>\n",
              "  </svg>\n",
              "    </button>\n",
              "\n",
              "  <style>\n",
              "    .colab-df-container {\n",
              "      display:flex;\n",
              "      gap: 12px;\n",
              "    }\n",
              "\n",
              "    .colab-df-convert {\n",
              "      background-color: #E8F0FE;\n",
              "      border: none;\n",
              "      border-radius: 50%;\n",
              "      cursor: pointer;\n",
              "      display: none;\n",
              "      fill: #1967D2;\n",
              "      height: 32px;\n",
              "      padding: 0 0 0 0;\n",
              "      width: 32px;\n",
              "    }\n",
              "\n",
              "    .colab-df-convert:hover {\n",
              "      background-color: #E2EBFA;\n",
              "      box-shadow: 0px 1px 2px rgba(60, 64, 67, 0.3), 0px 1px 3px 1px rgba(60, 64, 67, 0.15);\n",
              "      fill: #174EA6;\n",
              "    }\n",
              "\n",
              "    .colab-df-buttons div {\n",
              "      margin-bottom: 4px;\n",
              "    }\n",
              "\n",
              "    [theme=dark] .colab-df-convert {\n",
              "      background-color: #3B4455;\n",
              "      fill: #D2E3FC;\n",
              "    }\n",
              "\n",
              "    [theme=dark] .colab-df-convert:hover {\n",
              "      background-color: #434B5C;\n",
              "      box-shadow: 0px 1px 3px 1px rgba(0, 0, 0, 0.15);\n",
              "      filter: drop-shadow(0px 1px 2px rgba(0, 0, 0, 0.3));\n",
              "      fill: #FFFFFF;\n",
              "    }\n",
              "  </style>\n",
              "\n",
              "    <script>\n",
              "      const buttonEl =\n",
              "        document.querySelector('#df-73960070-ce96-447b-8ca7-af28a5605951 button.colab-df-convert');\n",
              "      buttonEl.style.display =\n",
              "        google.colab.kernel.accessAllowed ? 'block' : 'none';\n",
              "\n",
              "      async function convertToInteractive(key) {\n",
              "        const element = document.querySelector('#df-73960070-ce96-447b-8ca7-af28a5605951');\n",
              "        const dataTable =\n",
              "          await google.colab.kernel.invokeFunction('convertToInteractive',\n",
              "                                                    [key], {});\n",
              "        if (!dataTable) return;\n",
              "\n",
              "        const docLinkHtml = 'Like what you see? Visit the ' +\n",
              "          '<a target=\"_blank\" href=https://colab.research.google.com/notebooks/data_table.ipynb>data table notebook</a>'\n",
              "          + ' to learn more about interactive tables.';\n",
              "        element.innerHTML = '';\n",
              "        dataTable['output_type'] = 'display_data';\n",
              "        await google.colab.output.renderOutput(dataTable, element);\n",
              "        const docLink = document.createElement('div');\n",
              "        docLink.innerHTML = docLinkHtml;\n",
              "        element.appendChild(docLink);\n",
              "      }\n",
              "    </script>\n",
              "  </div>\n",
              "\n",
              "\n",
              "    <div id=\"df-46ac4cff-68e8-4d17-8206-e5970fe08090\">\n",
              "      <button class=\"colab-df-quickchart\" onclick=\"quickchart('df-46ac4cff-68e8-4d17-8206-e5970fe08090')\"\n",
              "                title=\"Suggest charts\"\n",
              "                style=\"display:none;\">\n",
              "\n",
              "<svg xmlns=\"http://www.w3.org/2000/svg\" height=\"24px\"viewBox=\"0 0 24 24\"\n",
              "     width=\"24px\">\n",
              "    <g>\n",
              "        <path d=\"M19 3H5c-1.1 0-2 .9-2 2v14c0 1.1.9 2 2 2h14c1.1 0 2-.9 2-2V5c0-1.1-.9-2-2-2zM9 17H7v-7h2v7zm4 0h-2V7h2v10zm4 0h-2v-4h2v4z\"/>\n",
              "    </g>\n",
              "</svg>\n",
              "      </button>\n",
              "\n",
              "<style>\n",
              "  .colab-df-quickchart {\n",
              "      --bg-color: #E8F0FE;\n",
              "      --fill-color: #1967D2;\n",
              "      --hover-bg-color: #E2EBFA;\n",
              "      --hover-fill-color: #174EA6;\n",
              "      --disabled-fill-color: #AAA;\n",
              "      --disabled-bg-color: #DDD;\n",
              "  }\n",
              "\n",
              "  [theme=dark] .colab-df-quickchart {\n",
              "      --bg-color: #3B4455;\n",
              "      --fill-color: #D2E3FC;\n",
              "      --hover-bg-color: #434B5C;\n",
              "      --hover-fill-color: #FFFFFF;\n",
              "      --disabled-bg-color: #3B4455;\n",
              "      --disabled-fill-color: #666;\n",
              "  }\n",
              "\n",
              "  .colab-df-quickchart {\n",
              "    background-color: var(--bg-color);\n",
              "    border: none;\n",
              "    border-radius: 50%;\n",
              "    cursor: pointer;\n",
              "    display: none;\n",
              "    fill: var(--fill-color);\n",
              "    height: 32px;\n",
              "    padding: 0;\n",
              "    width: 32px;\n",
              "  }\n",
              "\n",
              "  .colab-df-quickchart:hover {\n",
              "    background-color: var(--hover-bg-color);\n",
              "    box-shadow: 0 1px 2px rgba(60, 64, 67, 0.3), 0 1px 3px 1px rgba(60, 64, 67, 0.15);\n",
              "    fill: var(--button-hover-fill-color);\n",
              "  }\n",
              "\n",
              "  .colab-df-quickchart-complete:disabled,\n",
              "  .colab-df-quickchart-complete:disabled:hover {\n",
              "    background-color: var(--disabled-bg-color);\n",
              "    fill: var(--disabled-fill-color);\n",
              "    box-shadow: none;\n",
              "  }\n",
              "\n",
              "  .colab-df-spinner {\n",
              "    border: 2px solid var(--fill-color);\n",
              "    border-color: transparent;\n",
              "    border-bottom-color: var(--fill-color);\n",
              "    animation:\n",
              "      spin 1s steps(1) infinite;\n",
              "  }\n",
              "\n",
              "  @keyframes spin {\n",
              "    0% {\n",
              "      border-color: transparent;\n",
              "      border-bottom-color: var(--fill-color);\n",
              "      border-left-color: var(--fill-color);\n",
              "    }\n",
              "    20% {\n",
              "      border-color: transparent;\n",
              "      border-left-color: var(--fill-color);\n",
              "      border-top-color: var(--fill-color);\n",
              "    }\n",
              "    30% {\n",
              "      border-color: transparent;\n",
              "      border-left-color: var(--fill-color);\n",
              "      border-top-color: var(--fill-color);\n",
              "      border-right-color: var(--fill-color);\n",
              "    }\n",
              "    40% {\n",
              "      border-color: transparent;\n",
              "      border-right-color: var(--fill-color);\n",
              "      border-top-color: var(--fill-color);\n",
              "    }\n",
              "    60% {\n",
              "      border-color: transparent;\n",
              "      border-right-color: var(--fill-color);\n",
              "    }\n",
              "    80% {\n",
              "      border-color: transparent;\n",
              "      border-right-color: var(--fill-color);\n",
              "      border-bottom-color: var(--fill-color);\n",
              "    }\n",
              "    90% {\n",
              "      border-color: transparent;\n",
              "      border-bottom-color: var(--fill-color);\n",
              "    }\n",
              "  }\n",
              "</style>\n",
              "\n",
              "      <script>\n",
              "        async function quickchart(key) {\n",
              "          const quickchartButtonEl =\n",
              "            document.querySelector('#' + key + ' button');\n",
              "          quickchartButtonEl.disabled = true;  // To prevent multiple clicks.\n",
              "          quickchartButtonEl.classList.add('colab-df-spinner');\n",
              "          try {\n",
              "            const charts = await google.colab.kernel.invokeFunction(\n",
              "                'suggestCharts', [key], {});\n",
              "          } catch (error) {\n",
              "            console.error('Error during call to suggestCharts:', error);\n",
              "          }\n",
              "          quickchartButtonEl.classList.remove('colab-df-spinner');\n",
              "          quickchartButtonEl.classList.add('colab-df-quickchart-complete');\n",
              "        }\n",
              "        (() => {\n",
              "          let quickchartButtonEl =\n",
              "            document.querySelector('#df-46ac4cff-68e8-4d17-8206-e5970fe08090 button');\n",
              "          quickchartButtonEl.style.display =\n",
              "            google.colab.kernel.accessAllowed ? 'block' : 'none';\n",
              "        })();\n",
              "      </script>\n",
              "    </div>\n",
              "\n",
              "    </div>\n",
              "  </div>\n"
            ],
            "application/vnd.google.colaboratory.intrinsic+json": {
              "type": "dataframe",
              "variable_name": "df",
              "summary": "{\n  \"name\": \"df\",\n  \"rows\": 4000,\n  \"fields\": [\n    {\n      \"column\": \"Anchor\",\n      \"properties\": {\n        \"dtype\": \"string\",\n        \"num_unique_values\": 3285,\n        \"samples\": [\n          \"0206_c5s1_052801_04.jpg\",\n          \"0482_c3s1_139183_03.jpg\",\n          \"1080_c3s2_144344_01.jpg\"\n        ],\n        \"semantic_type\": \"\",\n        \"description\": \"\"\n      }\n    },\n    {\n      \"column\": \"Negative\",\n      \"properties\": {\n        \"dtype\": \"string\",\n        \"num_unique_values\": 3417,\n        \"samples\": [\n          \"0340_c6s1_080451_02.jpg\",\n          \"0741_c6s2_061343_01.jpg\",\n          \"0868_c3s2_108203_11.jpg\"\n        ],\n        \"semantic_type\": \"\",\n        \"description\": \"\"\n      }\n    },\n    {\n      \"column\": \"Positive\",\n      \"properties\": {\n        \"dtype\": \"string\",\n        \"num_unique_values\": 3219,\n        \"samples\": [\n          \"1152_c2s3_012407_01.jpg\",\n          \"0105_c2s1_017601_01.jpg\",\n          \"1286_c6s3_051367_01.jpg\"\n        ],\n        \"semantic_type\": \"\",\n        \"description\": \"\"\n      }\n    }\n  ]\n}"
            }
          },
          "metadata": {},
          "execution_count": 6
        }
      ],
      "source": [
        "df = pd.read_csv(CSV_FILE)\n",
        "df.head()"
      ]
    },
    {
      "cell_type": "code",
      "execution_count": 7,
      "id": "9f5e66ce",
      "metadata": {
        "execution": {
          "iopub.execute_input": "2023-05-14T06:39:16.948109Z",
          "iopub.status.busy": "2023-05-14T06:39:16.947151Z",
          "iopub.status.idle": "2023-05-14T06:39:16.992094Z",
          "shell.execute_reply": "2023-05-14T06:39:16.991036Z"
        },
        "papermill": {
          "duration": 0.061307,
          "end_time": "2023-05-14T06:39:16.994665",
          "exception": false,
          "start_time": "2023-05-14T06:39:16.933358",
          "status": "completed"
        },
        "tags": [],
        "id": "9f5e66ce"
      },
      "outputs": [],
      "source": [
        "row = df.iloc[11]\n",
        "\n",
        "\n",
        "\n",
        "A_img = io.imread(DATA_DIR + row.Anchor)\n",
        "P_img = io.imread(DATA_DIR + row.Positive)\n",
        "N_img = io.imread(DATA_DIR + row.Negative)"
      ]
    },
    {
      "cell_type": "code",
      "execution_count": 8,
      "id": "11a97742",
      "metadata": {
        "execution": {
          "iopub.execute_input": "2023-05-14T06:39:17.023211Z",
          "iopub.status.busy": "2023-05-14T06:39:17.021564Z",
          "iopub.status.idle": "2023-05-14T06:39:17.483789Z",
          "shell.execute_reply": "2023-05-14T06:39:17.482606Z"
        },
        "papermill": {
          "duration": 0.479553,
          "end_time": "2023-05-14T06:39:17.487127",
          "exception": false,
          "start_time": "2023-05-14T06:39:17.007574",
          "status": "completed"
        },
        "tags": [],
        "colab": {
          "base_uri": "https://localhost:8080/",
          "height": 486
        },
        "id": "11a97742",
        "outputId": "b958111b-0e17-4940-c0d3-470f7c274e79"
      },
      "outputs": [
        {
          "output_type": "execute_result",
          "data": {
            "text/plain": [
              "<matplotlib.image.AxesImage at 0x7c781935cec0>"
            ]
          },
          "metadata": {},
          "execution_count": 8
        },
        {
          "output_type": "display_data",
          "data": {
            "text/plain": [
              "<Figure size 1000x500 with 3 Axes>"
            ],
            "image/png": "[encoded data removed]"
          },
          "metadata": {}
        }
      ],
      "source": [
        "fig, (ax1, ax2, ax3) = plt.subplots(1, 3, figsize = (10,5))\n",
        "\n",
        "ax1.set_title(\"Anchor\")\n",
        "ax1.imshow(A_img)\n",
        "\n",
        "ax2.set_title(\"Positive\")\n",
        "ax2.imshow(P_img)\n",
        "\n",
        "ax3.set_title(\"Negative\")\n",
        "ax3.imshow(N_img)"
      ]
    },
    {
      "cell_type": "code",
      "execution_count": 9,
      "id": "c0a5a5d7",
      "metadata": {
        "execution": {
          "iopub.execute_input": "2023-05-14T06:39:17.518897Z",
          "iopub.status.busy": "2023-05-14T06:39:17.518549Z",
          "iopub.status.idle": "2023-05-14T06:39:17.527146Z",
          "shell.execute_reply": "2023-05-14T06:39:17.526402Z"
        },
        "papermill": {
          "duration": 0.026921,
          "end_time": "2023-05-14T06:39:17.529272",
          "exception": false,
          "start_time": "2023-05-14T06:39:17.502351",
          "status": "completed"
        },
        "tags": [],
        "id": "c0a5a5d7"
      },
      "outputs": [],
      "source": [
        "train_df, valid_df = train_test_split(df, test_size = 0.20, random_state = 42)"
      ]
    },
    {
      "cell_type": "markdown",
      "id": "217af20f",
      "metadata": {
        "papermill": {
          "duration": 0.014207,
          "end_time": "2023-05-14T06:39:17.557605",
          "exception": false,
          "start_time": "2023-05-14T06:39:17.543398",
          "status": "completed"
        },
        "tags": [],
        "id": "217af20f"
      },
      "source": [
        "# Create APN Dataset"
      ]
    },
    {
      "cell_type": "code",
      "execution_count": 10,
      "id": "16ab3dc6",
      "metadata": {
        "execution": {
          "iopub.execute_input": "2023-05-14T06:39:17.588205Z",
          "iopub.status.busy": "2023-05-14T06:39:17.587507Z",
          "iopub.status.idle": "2023-05-14T06:39:17.596432Z",
          "shell.execute_reply": "2023-05-14T06:39:17.595310Z"
        },
        "papermill": {
          "duration": 0.02695,
          "end_time": "2023-05-14T06:39:17.598743",
          "exception": false,
          "start_time": "2023-05-14T06:39:17.571793",
          "status": "completed"
        },
        "tags": [],
        "id": "16ab3dc6"
      },
      "outputs": [],
      "source": [
        "class APN_Dataset(Dataset):\n",
        "\n",
        "    def __init__(self, df):\n",
        "        self.df = df\n",
        "\n",
        "    def __len__(self):\n",
        "        return len(self.df)\n",
        "\n",
        "    def __getitem__(self,idx):\n",
        "        row = self.df.iloc[idx]\n",
        "\n",
        "        A_img = io.imread(DATA_DIR + row.Anchor.lstrip('/'))\n",
        "        P_img = io.imread(DATA_DIR + row.Positive.lstrip('/'))\n",
        "        N_img = io.imread(DATA_DIR + row.Negative.lstrip('/'))\n",
        "\n",
        "        A_img = torch.from_numpy(A_img).permute(2, 0 ,1).float() / 255.0\n",
        "        P_img = torch.from_numpy(P_img).permute(2, 0 ,1).float() / 255.0\n",
        "        N_img = torch.from_numpy(N_img).permute(2, 0 ,1).float() / 255.0\n",
        "\n",
        "\n",
        "        return A_img, P_img, N_img"
      ]
    },
    {
      "cell_type": "code",
      "execution_count": 11,
      "id": "c84926a0",
      "metadata": {
        "execution": {
          "iopub.execute_input": "2023-05-14T06:39:17.629286Z",
          "iopub.status.busy": "2023-05-14T06:39:17.628226Z",
          "iopub.status.idle": "2023-05-14T06:39:17.635295Z",
          "shell.execute_reply": "2023-05-14T06:39:17.634000Z"
        },
        "papermill": {
          "duration": 0.024602,
          "end_time": "2023-05-14T06:39:17.637578",
          "exception": false,
          "start_time": "2023-05-14T06:39:17.612976",
          "status": "completed"
        },
        "tags": [],
        "colab": {
          "base_uri": "https://localhost:8080/"
        },
        "id": "c84926a0",
        "outputId": "b2350c7d-8d43-435e-c879-fc94d46a4fed"
      },
      "outputs": [
        {
          "output_type": "stream",
          "name": "stdout",
          "text": [
            "Size of trainset : 3200\n",
            "Size of validset : 800\n"
          ]
        }
      ],
      "source": [
        "trainset = APN_Dataset(train_df)\n",
        "validset = APN_Dataset(valid_df)\n",
        "\n",
        "print(f\"Size of trainset : {len(trainset)}\")\n",
        "print(f\"Size of validset : {len(validset)}\")"
      ]
    },
    {
      "cell_type": "code",
      "execution_count": 12,
      "id": "b3664f3c",
      "metadata": {
        "execution": {
          "iopub.execute_input": "2023-05-14T06:39:17.668001Z",
          "iopub.status.busy": "2023-05-14T06:39:17.667108Z",
          "iopub.status.idle": "2023-05-14T06:39:18.197304Z",
          "shell.execute_reply": "2023-05-14T06:39:18.195647Z"
        },
        "papermill": {
          "duration": 0.549875,
          "end_time": "2023-05-14T06:39:18.201583",
          "exception": false,
          "start_time": "2023-05-14T06:39:17.651708",
          "status": "completed"
        },
        "tags": [],
        "colab": {
          "base_uri": "https://localhost:8080/",
          "height": 486
        },
        "id": "b3664f3c",
        "outputId": "fafa86ea-2df3-4263-96a4-07b994a60aa7"
      },
      "outputs": [
        {
          "output_type": "execute_result",
          "data": {
            "text/plain": [
              "<matplotlib.image.AxesImage at 0x7c7818bab4a0>"
            ]
          },
          "metadata": {},
          "execution_count": 12
        },
        {
          "output_type": "display_data",
          "data": {
            "text/plain": [
              "<Figure size 1000x500 with 3 Axes>"
            ],
            "image/png": "[encoded data removed]"
          },
          "metadata": {}
        }
      ],
      "source": [
        "idx = 40\n",
        "A,P,N = trainset[idx]\n",
        "\n",
        "f, (ax1, ax2, ax3) = plt.subplots(1,3,figsize= (10,5))\n",
        "\n",
        "ax1.set_title('Anchor')\n",
        "ax1.imshow(A.numpy().transpose((1,2,0)), cmap = 'gray')\n",
        "\n",
        "ax2.set_title('Positive')\n",
        "ax2.imshow(P.numpy().transpose((1,2,0)), cmap = 'gray')\n",
        "\n",
        "ax3.set_title('Negative')\n",
        "ax3.imshow(N.numpy().transpose((1,2,0)), cmap = 'gray')"
      ]
    },
    {
      "cell_type": "markdown",
      "id": "6bad38f2",
      "metadata": {
        "papermill": {
          "duration": 0.029502,
          "end_time": "2023-05-14T06:39:18.260029",
          "exception": false,
          "start_time": "2023-05-14T06:39:18.230527",
          "status": "completed"
        },
        "tags": [],
        "id": "6bad38f2"
      },
      "source": [
        "# Load Dataset into Batches"
      ]
    },
    {
      "cell_type": "code",
      "execution_count": 13,
      "id": "a296d78c",
      "metadata": {
        "execution": {
          "iopub.execute_input": "2023-05-14T06:39:18.318570Z",
          "iopub.status.busy": "2023-05-14T06:39:18.317899Z",
          "iopub.status.idle": "2023-05-14T06:39:18.328158Z",
          "shell.execute_reply": "2023-05-14T06:39:18.326933Z"
        },
        "papermill": {
          "duration": 0.043085,
          "end_time": "2023-05-14T06:39:18.331844",
          "exception": false,
          "start_time": "2023-05-14T06:39:18.288759",
          "status": "completed"
        },
        "tags": [],
        "id": "a296d78c"
      },
      "outputs": [],
      "source": [
        "trainloader = DataLoader(trainset, batch_size = BATCH_SIZE,shuffle = True)\n",
        "validloader = DataLoader(validset, batch_size = BATCH_SIZE)"
      ]
    },
    {
      "cell_type": "code",
      "execution_count": 14,
      "id": "0ab1d679",
      "metadata": {
        "execution": {
          "iopub.execute_input": "2023-05-14T06:39:18.390644Z",
          "iopub.status.busy": "2023-05-14T06:39:18.390095Z",
          "iopub.status.idle": "2023-05-14T06:39:18.397615Z",
          "shell.execute_reply": "2023-05-14T06:39:18.396346Z"
        },
        "papermill": {
          "duration": 0.0459,
          "end_time": "2023-05-14T06:39:18.406258",
          "exception": false,
          "start_time": "2023-05-14T06:39:18.360358",
          "status": "completed"
        },
        "tags": [],
        "colab": {
          "base_uri": "https://localhost:8080/"
        },
        "id": "0ab1d679",
        "outputId": "9085572c-79e3-459e-96f7-de7614c56c02"
      },
      "outputs": [
        {
          "output_type": "stream",
          "name": "stdout",
          "text": [
            "No. of batches in trainloader : 100\n",
            "No. of batches in validloader : 25\n"
          ]
        }
      ],
      "source": [
        "print(f\"No. of batches in trainloader : {len(trainloader)}\")\n",
        "print(f\"No. of batches in validloader : {len(validloader)}\")"
      ]
    },
    {
      "cell_type": "code",
      "execution_count": 15,
      "id": "a12e5a2a",
      "metadata": {
        "execution": {
          "iopub.execute_input": "2023-05-14T06:39:18.458818Z",
          "iopub.status.busy": "2023-05-14T06:39:18.458474Z",
          "iopub.status.idle": "2023-05-14T06:39:18.946145Z",
          "shell.execute_reply": "2023-05-14T06:39:18.944004Z"
        },
        "papermill": {
          "duration": 0.513245,
          "end_time": "2023-05-14T06:39:18.948649",
          "exception": false,
          "start_time": "2023-05-14T06:39:18.435404",
          "status": "completed"
        },
        "tags": [],
        "colab": {
          "base_uri": "https://localhost:8080/"
        },
        "id": "a12e5a2a",
        "outputId": "383093f2-0ef0-4dd1-defd-0f31062ff82e"
      },
      "outputs": [
        {
          "output_type": "stream",
          "name": "stdout",
          "text": [
            "One image batch shape : torch.Size([32, 3, 128, 64])\n"
          ]
        }
      ],
      "source": [
        "for A, P, N in trainloader:\n",
        "    break;\n",
        "\n",
        "print(f\"One image batch shape : {A.shape}\")"
      ]
    },
    {
      "cell_type": "markdown",
      "id": "ffae3f85",
      "metadata": {
        "papermill": {
          "duration": 0.016248,
          "end_time": "2023-05-14T06:39:18.981218",
          "exception": false,
          "start_time": "2023-05-14T06:39:18.964970",
          "status": "completed"
        },
        "tags": [],
        "id": "ffae3f85"
      },
      "source": [
        "# Create Model"
      ]
    },
    {
      "cell_type": "code",
      "execution_count": 16,
      "id": "ff69c4bc",
      "metadata": {
        "execution": {
          "iopub.execute_input": "2023-05-14T06:39:19.015567Z",
          "iopub.status.busy": "2023-05-14T06:39:19.014438Z",
          "iopub.status.idle": "2023-05-14T06:39:19.022359Z",
          "shell.execute_reply": "2023-05-14T06:39:19.021092Z"
        },
        "papermill": {
          "duration": 0.027437,
          "end_time": "2023-05-14T06:39:19.024708",
          "exception": false,
          "start_time": "2023-05-14T06:39:18.997271",
          "status": "completed"
        },
        "tags": [],
        "id": "ff69c4bc"
      },
      "outputs": [],
      "source": [
        "class APN_Model(nn.Module):\n",
        "\n",
        "    def __init__(self, emb_size = 512):\n",
        "        super(APN_Model, self).__init__()\n",
        "\n",
        "        self.efficientnet = timm.create_model('efficientnet_b0', pretrained=True)\n",
        "        self.efficientnet.classifier = nn.Linear(in_features = self.efficientnet.classifier.in_features,\n",
        "                                                out_features = emb_size)\n",
        "\n",
        "\n",
        "    def forward(self, images):\n",
        "        embeddings = self.efficientnet(images)\n",
        "        return embeddings"
      ]
    },
    {
      "cell_type": "code",
      "execution_count": 17,
      "id": "d05d285c",
      "metadata": {
        "execution": {
          "iopub.execute_input": "2023-05-14T06:39:19.059205Z",
          "iopub.status.busy": "2023-05-14T06:39:19.058840Z",
          "iopub.status.idle": "2023-05-14T06:39:22.772926Z",
          "shell.execute_reply": "2023-05-14T06:39:22.771855Z"
        },
        "papermill": {
          "duration": 3.73453,
          "end_time": "2023-05-14T06:39:22.775541",
          "exception": false,
          "start_time": "2023-05-14T06:39:19.041011",
          "status": "completed"
        },
        "tags": [],
        "colab": {
          "base_uri": "https://localhost:8080/",
          "height": 1000,
          "referenced_widgets": [
            "3cfe3c1495f44e59aef6437bcec60e68",
            "b2725f79783e46daae95af8460321068",
            "06d31f40af7b4bab9e70d1e43092efc7",
            "0e15032d974d4869b51e03c4a14434fa",
            "7ef4f1b34dfb4c7b9063778012a174f7",
            "76b1c12cb7264ce8928d8a55f1909e7d",
            "d39bb7a873ad4a2db6c5e7c1b47d8a57",
            "82c85a649f4d4cb48238d835a82d2a1d",
            "be97735973c844378b5e77380b2835d8",
            "d74c4389a690401bbd1b958608452df4",
            "0132ea1a8c5842f288f09f9efb7d55aa"
          ]
        },
        "id": "d05d285c",
        "outputId": "df4006ee-b5d6-43ed-e772-9f1719f5655b"
      },
      "outputs": [
        {
          "output_type": "stream",
          "name": "stderr",
          "text": [
            "/usr/local/lib/python3.12/dist-packages/huggingface_hub/utils/_auth.py:94: UserWarning: \n",
            "The secret `HF_TOKEN` does not exist in your Colab secrets.\n",
            "To authenticate with the Hugging Face Hub, create a token in your settings tab (https://huggingface.co/settings/tokens), set it as secret in your Google Colab and restart your session.\n",
            "You will be able to reuse this secret in all of your notebooks.\n",
            "Please note that authentication is recommended but still optional to access public models or datasets.\n",
            "  warnings.warn(\n"
          ]
        },
        {
          "output_type": "display_data",
          "data": {
            "text/plain": [
              "model.safetensors:   0%|          | 0.00/21.4M [00:00<?, ?B/s]"
            ],
            "application/vnd.jupyter.widget-view+json": {
              "version_major": 2,
              "version_minor": 0,
              "model_id": "3cfe3c1495f44e59aef6437bcec60e68"
            }
          },
          "metadata": {}
        },
        {
          "output_type": "execute_result",
          "data": {
            "text/plain": [
              "APN_Model(\n",
              "  (efficientnet): EfficientNet(\n",
              "    (conv_stem): Conv2d(3, 32, kernel_size=(3, 3), stride=(2, 2), padding=(1, 1), bias=False)\n",
              "    (bn1): BatchNormAct2d(\n",
              "      32, eps=1e-05, momentum=0.1, affine=True, track_running_stats=True\n",
              "      (drop): Identity()\n",
              "      (act): SiLU(inplace=True)\n",
              "    )\n",
              "    (blocks): Sequential(\n",
              "      (0): Sequential(\n",
              "        (0): DepthwiseSeparableConv(\n",
              "          (conv_dw): Conv2d(32, 32, kernel_size=(3, 3), stride=(1, 1), padding=(1, 1), groups=32, bias=False)\n",
              "          (bn1): BatchNormAct2d(\n",
              "            32, eps=1e-05, momentum=0.1, affine=True, track_running_stats=True\n",
              "            (drop): Identity()\n",
              "            (act): SiLU(inplace=True)\n",
              "          )\n",
              "          (aa): Identity()\n",
              "          (se): SqueezeExcite(\n",
              "            (conv_reduce): Conv2d(32, 8, kernel_size=(1, 1), stride=(1, 1))\n",
              "            (act1): SiLU(inplace=True)\n",
              "            (conv_expand): Conv2d(8, 32, kernel_size=(1, 1), stride=(1, 1))\n",
              "            (gate): Sigmoid()\n",
              "          )\n",
              "          (conv_pw): Conv2d(32, 16, kernel_size=(1, 1), stride=(1, 1), bias=False)\n",
              "          (bn2): BatchNormAct2d(\n",
              "            16, eps=1e-05, momentum=0.1, affine=True, track_running_stats=True\n",
              "            (drop): Identity()\n",
              "            (act): Identity()\n",
              "          )\n",
              "          (drop_path): Identity()\n",
              "        )\n",
              "      )\n",
              "      (1): Sequential(\n",
              "        (0): InvertedResidual(\n",
              "          (conv_pw): Conv2d(16, 96, kernel_size=(1, 1), stride=(1, 1), bias=False)\n",
              "          (bn1): BatchNormAct2d(\n",
              "            96, eps=1e-05, momentum=0.1, affine=True, track_running_stats=True\n",
              "            (drop): Identity()\n",
              "            (act): SiLU(inplace=True)\n",
              "          )\n",
              "          (conv_dw): Conv2d(96, 96, kernel_size=(3, 3), stride=(2, 2), padding=(1, 1), groups=96, bias=False)\n",
              "          (bn2): BatchNormAct2d(\n",
              "            96, eps=1e-05, momentum=0.1, affine=True, track_running_stats=True\n",
              "            (drop): Identity()\n",
              "            (act): SiLU(inplace=True)\n",
              "          )\n",
              "          (aa): Identity()\n",
              "          (se): SqueezeExcite(\n",
              "            (conv_reduce): Conv2d(96, 4, kernel_size=(1, 1), stride=(1, 1))\n",
              "            (act1): SiLU(inplace=True)\n",
              "            (conv_expand): Conv2d(4, 96, kernel_size=(1, 1), stride=(1, 1))\n",
              "            (gate): Sigmoid()\n",
              "          )\n",
              "          (conv_pwl): Conv2d(96, 24, kernel_size=(1, 1), stride=(1, 1), bias=False)\n",
              "          (bn3): BatchNormAct2d(\n",
              "            24, eps=1e-05, momentum=0.1, affine=True, track_running_stats=True\n",
              "            (drop): Identity()\n",
              "            (act): Identity()\n",
              "          )\n",
              "          (drop_path): Identity()\n",
              "        )\n",
              "        (1): InvertedResidual(\n",
              "          (conv_pw): Conv2d(24, 144, kernel_size=(1, 1), stride=(1, 1), bias=False)\n",
              "          (bn1): BatchNormAct2d(\n",
              "            144, eps=1e-05, momentum=0.1, affine=True, track_running_stats=True\n",
              "            (drop): Identity()\n",
              "            (act): SiLU(inplace=True)\n",
              "          )\n",
              "          (conv_dw): Conv2d(144, 144, kernel_size=(3, 3), stride=(1, 1), padding=(1, 1), groups=144, bias=False)\n",
              "          (bn2): BatchNormAct2d(\n",
              "            144, eps=1e-05, momentum=0.1, affine=True, track_running_stats=True\n",
              "            (drop): Identity()\n",
              "            (act): SiLU(inplace=True)\n",
              "          )\n",
              "          (aa): Identity()\n",
              "          (se): SqueezeExcite(\n",
              "            (conv_reduce): Conv2d(144, 6, kernel_size=(1, 1), stride=(1, 1))\n",
              "            (act1): SiLU(inplace=True)\n",
              "            (conv_expand): Conv2d(6, 144, kernel_size=(1, 1), stride=(1, 1))\n",
              "            (gate): Sigmoid()\n",
              "          )\n",
              "          (conv_pwl): Conv2d(144, 24, kernel_size=(1, 1), stride=(1, 1), bias=False)\n",
              "          (bn3): BatchNormAct2d(\n",
              "            24, eps=1e-05, momentum=0.1, affine=True, track_running_stats=True\n",
              "            (drop): Identity()\n",
              "            (act): Identity()\n",
              "          )\n",
              "          (drop_path): Identity()\n",
              "        )\n",
              "      )\n",
              "      (2): Sequential(\n",
              "        (0): InvertedResidual(\n",
              "          (conv_pw): Conv2d(24, 144, kernel_size=(1, 1), stride=(1, 1), bias=False)\n",
              "          (bn1): BatchNormAct2d(\n",
              "            144, eps=1e-05, momentum=0.1, affine=True, track_running_stats=True\n",
              "            (drop): Identity()\n",
              "            (act): SiLU(inplace=True)\n",
              "          )\n",
              "          (conv_dw): Conv2d(144, 144, kernel_size=(5, 5), stride=(2, 2), padding=(2, 2), groups=144, bias=False)\n",
              "          (bn2): BatchNormAct2d(\n",
              "            144, eps=1e-05, momentum=0.1, affine=True, track_running_stats=True\n",
              "            (drop): Identity()\n",
              "            (act): SiLU(inplace=True)\n",
              "          )\n",
              "          (aa): Identity()\n",
              "          (se): SqueezeExcite(\n",
              "            (conv_reduce): Conv2d(144, 6, kernel_size=(1, 1), stride=(1, 1))\n",
              "            (act1): SiLU(inplace=True)\n",
              "            (conv_expand): Conv2d(6, 144, kernel_size=(1, 1), stride=(1, 1))\n",
              "            (gate): Sigmoid()\n",
              "          )\n",
              "          (conv_pwl): Conv2d(144, 40, kernel_size=(1, 1), stride=(1, 1), bias=False)\n",
              "          (bn3): BatchNormAct2d(\n",
              "            40, eps=1e-05, momentum=0.1, affine=True, track_running_stats=True\n",
              "            (drop): Identity()\n",
              "            (act): Identity()\n",
              "          )\n",
              "          (drop_path): Identity()\n",
              "        )\n",
              "        (1): InvertedResidual(\n",
              "          (conv_pw): Conv2d(40, 240, kernel_size=(1, 1), stride=(1, 1), bias=False)\n",
              "          (bn1): BatchNormAct2d(\n",
              "            240, eps=1e-05, momentum=0.1, affine=True, track_running_stats=True\n",
              "            (drop): Identity()\n",
              "            (act): SiLU(inplace=True)\n",
              "          )\n",
              "          (conv_dw): Conv2d(240, 240, kernel_size=(5, 5), stride=(1, 1), padding=(2, 2), groups=240, bias=False)\n",
              "          (bn2): BatchNormAct2d(\n",
              "            240, eps=1e-05, momentum=0.1, affine=True, track_running_stats=True\n",
              "            (drop): Identity()\n",
              "            (act): SiLU(inplace=True)\n",
              "          )\n",
              "          (aa): Identity()\n",
              "          (se): SqueezeExcite(\n",
              "            (conv_reduce): Conv2d(240, 10, kernel_size=(1, 1), stride=(1, 1))\n",
              "            (act1): SiLU(inplace=True)\n",
              "            (conv_expand): Conv2d(10, 240, kernel_size=(1, 1), stride=(1, 1))\n",
              "            (gate): Sigmoid()\n",
              "          )\n",
              "          (conv_pwl): Conv2d(240, 40, kernel_size=(1, 1), stride=(1, 1), bias=False)\n",
              "          (bn3): BatchNormAct2d(\n",
              "            40, eps=1e-05, momentum=0.1, affine=True, track_running_stats=True\n",
              "            (drop): Identity()\n",
              "            (act): Identity()\n",
              "          )\n",
              "          (drop_path): Identity()\n",
              "        )\n",
              "      )\n",
              "      (3): Sequential(\n",
              "        (0): InvertedResidual(\n",
              "          (conv_pw): Conv2d(40, 240, kernel_size=(1, 1), stride=(1, 1), bias=False)\n",
              "          (bn1): BatchNormAct2d(\n",
              "            240, eps=1e-05, momentum=0.1, affine=True, track_running_stats=True\n",
              "            (drop): Identity()\n",
              "            (act): SiLU(inplace=True)\n",
              "          )\n",
              "          (conv_dw): Conv2d(240, 240, kernel_size=(3, 3), stride=(2, 2), padding=(1, 1), groups=240, bias=False)\n",
              "          (bn2): BatchNormAct2d(\n",
              "            240, eps=1e-05, momentum=0.1, affine=True, track_running_stats=True\n",
              "            (drop): Identity()\n",
              "            (act): SiLU(inplace=True)\n",
              "          )\n",
              "          (aa): Identity()\n",
              "          (se): SqueezeExcite(\n",
              "            (conv_reduce): Conv2d(240, 10, kernel_size=(1, 1), stride=(1, 1))\n",
              "            (act1): SiLU(inplace=True)\n",
              "            (conv_expand): Conv2d(10, 240, kernel_size=(1, 1), stride=(1, 1))\n",
              "            (gate): Sigmoid()\n",
              "          )\n",
              "          (conv_pwl): Conv2d(240, 80, kernel_size=(1, 1), stride=(1, 1), bias=False)\n",
              "          (bn3): BatchNormAct2d(\n",
              "            80, eps=1e-05, momentum=0.1, affine=True, track_running_stats=True\n",
              "            (drop): Identity()\n",
              "            (act): Identity()\n",
              "          )\n",
              "          (drop_path): Identity()\n",
              "        )\n",
              "        (1): InvertedResidual(\n",
              "          (conv_pw): Conv2d(80, 480, kernel_size=(1, 1), stride=(1, 1), bias=False)\n",
              "          (bn1): BatchNormAct2d(\n",
              "            480, eps=1e-05, momentum=0.1, affine=True, track_running_stats=True\n",
              "            (drop): Identity()\n",
              "            (act): SiLU(inplace=True)\n",
              "          )\n",
              "          (conv_dw): Conv2d(480, 480, kernel_size=(3, 3), stride=(1, 1), padding=(1, 1), groups=480, bias=False)\n",
              "          (bn2): BatchNormAct2d(\n",
              "            480, eps=1e-05, momentum=0.1, affine=True, track_running_stats=True\n",
              "            (drop): Identity()\n",
              "            (act): SiLU(inplace=True)\n",
              "          )\n",
              "          (aa): Identity()\n",
              "          (se): SqueezeExcite(\n",
              "            (conv_reduce): Conv2d(480, 20, kernel_size=(1, 1), stride=(1, 1))\n",
              "            (act1): SiLU(inplace=True)\n",
              "            (conv_expand): Conv2d(20, 480, kernel_size=(1, 1), stride=(1, 1))\n",
              "            (gate): Sigmoid()\n",
              "          )\n",
              "          (conv_pwl): Conv2d(480, 80, kernel_size=(1, 1), stride=(1, 1), bias=False)\n",
              "          (bn3): BatchNormAct2d(\n",
              "            80, eps=1e-05, momentum=0.1, affine=True, track_running_stats=True\n",
              "            (drop): Identity()\n",
              "            (act): Identity()\n",
              "          )\n",
              "          (drop_path): Identity()\n",
              "        )\n",
              "        (2): InvertedResidual(\n",
              "          (conv_pw): Conv2d(80, 480, kernel_size=(1, 1), stride=(1, 1), bias=False)\n",
              "          (bn1): BatchNormAct2d(\n",
              "            480, eps=1e-05, momentum=0.1, affine=True, track_running_stats=True\n",
              "            (drop): Identity()\n",
              "            (act): SiLU(inplace=True)\n",
              "          )\n",
              "          (conv_dw): Conv2d(480, 480, kernel_size=(3, 3), stride=(1, 1), padding=(1, 1), groups=480, bias=False)\n",
              "          (bn2): BatchNormAct2d(\n",
              "            480, eps=1e-05, momentum=0.1, affine=True, track_running_stats=True\n",
              "            (drop): Identity()\n",
              "            (act): SiLU(inplace=True)\n",
              "          )\n",
              "          (aa): Identity()\n",
              "          (se): SqueezeExcite(\n",
              "            (conv_reduce): Conv2d(480, 20, kernel_size=(1, 1), stride=(1, 1))\n",
              "            (act1): SiLU(inplace=True)\n",
              "            (conv_expand): Conv2d(20, 480, kernel_size=(1, 1), stride=(1, 1))\n",
              "            (gate): Sigmoid()\n",
              "          )\n",
              "          (conv_pwl): Conv2d(480, 80, kernel_size=(1, 1), stride=(1, 1), bias=False)\n",
              "          (bn3): BatchNormAct2d(\n",
              "            80, eps=1e-05, momentum=0.1, affine=True, track_running_stats=True\n",
              "            (drop): Identity()\n",
              "            (act): Identity()\n",
              "          )\n",
              "          (drop_path): Identity()\n",
              "        )\n",
              "      )\n",
              "      (4): Sequential(\n",
              "        (0): InvertedResidual(\n",
              "          (conv_pw): Conv2d(80, 480, kernel_size=(1, 1), stride=(1, 1), bias=False)\n",
              "          (bn1): BatchNormAct2d(\n",
              "            480, eps=1e-05, momentum=0.1, affine=True, track_running_stats=True\n",
              "            (drop): Identity()\n",
              "            (act): SiLU(inplace=True)\n",
              "          )\n",
              "          (conv_dw): Conv2d(480, 480, kernel_size=(5, 5), stride=(1, 1), padding=(2, 2), groups=480, bias=False)\n",
              "          (bn2): BatchNormAct2d(\n",
              "            480, eps=1e-05, momentum=0.1, affine=True, track_running_stats=True\n",
              "            (drop): Identity()\n",
              "            (act): SiLU(inplace=True)\n",
              "          )\n",
              "          (aa): Identity()\n",
              "          (se): SqueezeExcite(\n",
              "            (conv_reduce): Conv2d(480, 20, kernel_size=(1, 1), stride=(1, 1))\n",
              "            (act1): SiLU(inplace=True)\n",
              "            (conv_expand): Conv2d(20, 480, kernel_size=(1, 1), stride=(1, 1))\n",
              "            (gate): Sigmoid()\n",
              "          )\n",
              "          (conv_pwl): Conv2d(480, 112, kernel_size=(1, 1), stride=(1, 1), bias=False)\n",
              "          (bn3): BatchNormAct2d(\n",
              "            112, eps=1e-05, momentum=0.1, affine=True, track_running_stats=True\n",
              "            (drop): Identity()\n",
              "            (act): Identity()\n",
              "          )\n",
              "          (drop_path): Identity()\n",
              "        )\n",
              "        (1): InvertedResidual(\n",
              "          (conv_pw): Conv2d(112, 672, kernel_size=(1, 1), stride=(1, 1), bias=False)\n",
              "          (bn1): BatchNormAct2d(\n",
              "            672, eps=1e-05, momentum=0.1, affine=True, track_running_stats=True\n",
              "            (drop): Identity()\n",
              "            (act): SiLU(inplace=True)\n",
              "          )\n",
              "          (conv_dw): Conv2d(672, 672, kernel_size=(5, 5), stride=(1, 1), padding=(2, 2), groups=672, bias=False)\n",
              "          (bn2): BatchNormAct2d(\n",
              "            672, eps=1e-05, momentum=0.1, affine=True, track_running_stats=True\n",
              "            (drop): Identity()\n",
              "            (act): SiLU(inplace=True)\n",
              "          )\n",
              "          (aa): Identity()\n",
              "          (se): SqueezeExcite(\n",
              "            (conv_reduce): Conv2d(672, 28, kernel_size=(1, 1), stride=(1, 1))\n",
              "            (act1): SiLU(inplace=True)\n",
              "            (conv_expand): Conv2d(28, 672, kernel_size=(1, 1), stride=(1, 1))\n",
              "            (gate): Sigmoid()\n",
              "          )\n",
              "          (conv_pwl): Conv2d(672, 112, kernel_size=(1, 1), stride=(1, 1), bias=False)\n",
              "          (bn3): BatchNormAct2d(\n",
              "            112, eps=1e-05, momentum=0.1, affine=True, track_running_stats=True\n",
              "            (drop): Identity()\n",
              "            (act): Identity()\n",
              "          )\n",
              "          (drop_path): Identity()\n",
              "        )\n",
              "        (2): InvertedResidual(\n",
              "          (conv_pw): Conv2d(112, 672, kernel_size=(1, 1), stride=(1, 1), bias=False)\n",
              "          (bn1): BatchNormAct2d(\n",
              "            672, eps=1e-05, momentum=0.1, affine=True, track_running_stats=True\n",
              "            (drop): Identity()\n",
              "            (act): SiLU(inplace=True)\n",
              "          )\n",
              "          (conv_dw): Conv2d(672, 672, kernel_size=(5, 5), stride=(1, 1), padding=(2, 2), groups=672, bias=False)\n",
              "          (bn2): BatchNormAct2d(\n",
              "            672, eps=1e-05, momentum=0.1, affine=True, track_running_stats=True\n",
              "            (drop): Identity()\n",
              "            (act): SiLU(inplace=True)\n",
              "          )\n",
              "          (aa): Identity()\n",
              "          (se): SqueezeExcite(\n",
              "            (conv_reduce): Conv2d(672, 28, kernel_size=(1, 1), stride=(1, 1))\n",
              "            (act1): SiLU(inplace=True)\n",
              "            (conv_expand): Conv2d(28, 672, kernel_size=(1, 1), stride=(1, 1))\n",
              "            (gate): Sigmoid()\n",
              "          )\n",
              "          (conv_pwl): Conv2d(672, 112, kernel_size=(1, 1), stride=(1, 1), bias=False)\n",
              "          (bn3): BatchNormAct2d(\n",
              "            112, eps=1e-05, momentum=0.1, affine=True, track_running_stats=True\n",
              "            (drop): Identity()\n",
              "            (act): Identity()\n",
              "          )\n",
              "          (drop_path): Identity()\n",
              "        )\n",
              "      )\n",
              "      (5): Sequential(\n",
              "        (0): InvertedResidual(\n",
              "          (conv_pw): Conv2d(112, 672, kernel_size=(1, 1), stride=(1, 1), bias=False)\n",
              "          (bn1): BatchNormAct2d(\n",
              "            672, eps=1e-05, momentum=0.1, affine=True, track_running_stats=True\n",
              "            (drop): Identity()\n",
              "            (act): SiLU(inplace=True)\n",
              "          )\n",
              "          (conv_dw): Conv2d(672, 672, kernel_size=(5, 5), stride=(2, 2), padding=(2, 2), groups=672, bias=False)\n",
              "          (bn2): BatchNormAct2d(\n",
              "            672, eps=1e-05, momentum=0.1, affine=True, track_running_stats=True\n",
              "            (drop): Identity()\n",
              "            (act): SiLU(inplace=True)\n",
              "          )\n",
              "          (aa): Identity()\n",
              "          (se): SqueezeExcite(\n",
              "            (conv_reduce): Conv2d(672, 28, kernel_size=(1, 1), stride=(1, 1))\n",
              "            (act1): SiLU(inplace=True)\n",
              "            (conv_expand): Conv2d(28, 672, kernel_size=(1, 1), stride=(1, 1))\n",
              "            (gate): Sigmoid()\n",
              "          )\n",
              "          (conv_pwl): Conv2d(672, 192, kernel_size=(1, 1), stride=(1, 1), bias=False)\n",
              "          (bn3): BatchNormAct2d(\n",
              "            192, eps=1e-05, momentum=0.1, affine=True, track_running_stats=True\n",
              "            (drop): Identity()\n",
              "            (act): Identity()\n",
              "          )\n",
              "          (drop_path): Identity()\n",
              "        )\n",
              "        (1): InvertedResidual(\n",
              "          (conv_pw): Conv2d(192, 1152, kernel_size=(1, 1), stride=(1, 1), bias=False)\n",
              "          (bn1): BatchNormAct2d(\n",
              "            1152, eps=1e-05, momentum=0.1, affine=True, track_running_stats=True\n",
              "            (drop): Identity()\n",
              "            (act): SiLU(inplace=True)\n",
              "          )\n",
              "          (conv_dw): Conv2d(1152, 1152, kernel_size=(5, 5), stride=(1, 1), padding=(2, 2), groups=1152, bias=False)\n",
              "          (bn2): BatchNormAct2d(\n",
              "            1152, eps=1e-05, momentum=0.1, affine=True, track_running_stats=True\n",
              "            (drop): Identity()\n",
              "            (act): SiLU(inplace=True)\n",
              "          )\n",
              "          (aa): Identity()\n",
              "          (se): SqueezeExcite(\n",
              "            (conv_reduce): Conv2d(1152, 48, kernel_size=(1, 1), stride=(1, 1))\n",
              "            (act1): SiLU(inplace=True)\n",
              "            (conv_expand): Conv2d(48, 1152, kernel_size=(1, 1), stride=(1, 1))\n",
              "            (gate): Sigmoid()\n",
              "          )\n",
              "          (conv_pwl): Conv2d(1152, 192, kernel_size=(1, 1), stride=(1, 1), bias=False)\n",
              "          (bn3): BatchNormAct2d(\n",
              "            192, eps=1e-05, momentum=0.1, affine=True, track_running_stats=True\n",
              "            (drop): Identity()\n",
              "            (act): Identity()\n",
              "          )\n",
              "          (drop_path): Identity()\n",
              "        )\n",
              "        (2): InvertedResidual(\n",
              "          (conv_pw): Conv2d(192, 1152, kernel_size=(1, 1), stride=(1, 1), bias=False)\n",
              "          (bn1): BatchNormAct2d(\n",
              "            1152, eps=1e-05, momentum=0.1, affine=True, track_running_stats=True\n",
              "            (drop): Identity()\n",
              "            (act): SiLU(inplace=True)\n",
              "          )\n",
              "          (conv_dw): Conv2d(1152, 1152, kernel_size=(5, 5), stride=(1, 1), padding=(2, 2), groups=1152, bias=False)\n",
              "          (bn2): BatchNormAct2d(\n",
              "            1152, eps=1e-05, momentum=0.1, affine=True, track_running_stats=True\n",
              "            (drop): Identity()\n",
              "            (act): SiLU(inplace=True)\n",
              "          )\n",
              "          (aa): Identity()\n",
              "          (se): SqueezeExcite(\n",
              "            (conv_reduce): Conv2d(1152, 48, kernel_size=(1, 1), stride=(1, 1))\n",
              "            (act1): SiLU(inplace=True)\n",
              "            (conv_expand): Conv2d(48, 1152, kernel_size=(1, 1), stride=(1, 1))\n",
              "            (gate): Sigmoid()\n",
              "          )\n",
              "          (conv_pwl): Conv2d(1152, 192, kernel_size=(1, 1), stride=(1, 1), bias=False)\n",
              "          (bn3): BatchNormAct2d(\n",
              "            192, eps=1e-05, momentum=0.1, affine=True, track_running_stats=True\n",
              "            (drop): Identity()\n",
              "            (act): Identity()\n",
              "          )\n",
              "          (drop_path): Identity()\n",
              "        )\n",
              "        (3): InvertedResidual(\n",
              "          (conv_pw): Conv2d(192, 1152, kernel_size=(1, 1), stride=(1, 1), bias=False)\n",
              "          (bn1): BatchNormAct2d(\n",
              "            1152, eps=1e-05, momentum=0.1, affine=True, track_running_stats=True\n",
              "            (drop): Identity()\n",
              "            (act): SiLU(inplace=True)\n",
              "          )\n",
              "          (conv_dw): Conv2d(1152, 1152, kernel_size=(5, 5), stride=(1, 1), padding=(2, 2), groups=1152, bias=False)\n",
              "          (bn2): BatchNormAct2d(\n",
              "            1152, eps=1e-05, momentum=0.1, affine=True, track_running_stats=True\n",
              "            (drop): Identity()\n",
              "            (act): SiLU(inplace=True)\n",
              "          )\n",
              "          (aa): Identity()\n",
              "          (se): SqueezeExcite(\n",
              "            (conv_reduce): Conv2d(1152, 48, kernel_size=(1, 1), stride=(1, 1))\n",
              "            (act1): SiLU(inplace=True)\n",
              "            (conv_expand): Conv2d(48, 1152, kernel_size=(1, 1), stride=(1, 1))\n",
              "            (gate): Sigmoid()\n",
              "          )\n",
              "          (conv_pwl): Conv2d(1152, 192, kernel_size=(1, 1), stride=(1, 1), bias=False)\n",
              "          (bn3): BatchNormAct2d(\n",
              "            192, eps=1e-05, momentum=0.1, affine=True, track_running_stats=True\n",
              "            (drop): Identity()\n",
              "            (act): Identity()\n",
              "          )\n",
              "          (drop_path): Identity()\n",
              "        )\n",
              "      )\n",
              "      (6): Sequential(\n",
              "        (0): InvertedResidual(\n",
              "          (conv_pw): Conv2d(192, 1152, kernel_size=(1, 1), stride=(1, 1), bias=False)\n",
              "          (bn1): BatchNormAct2d(\n",
              "            1152, eps=1e-05, momentum=0.1, affine=True, track_running_stats=True\n",
              "            (drop): Identity()\n",
              "            (act): SiLU(inplace=True)\n",
              "          )\n",
              "          (conv_dw): Conv2d(1152, 1152, kernel_size=(3, 3), stride=(1, 1), padding=(1, 1), groups=1152, bias=False)\n",
              "          (bn2): BatchNormAct2d(\n",
              "            1152, eps=1e-05, momentum=0.1, affine=True, track_running_stats=True\n",
              "            (drop): Identity()\n",
              "            (act): SiLU(inplace=True)\n",
              "          )\n",
              "          (aa): Identity()\n",
              "          (se): SqueezeExcite(\n",
              "            (conv_reduce): Conv2d(1152, 48, kernel_size=(1, 1), stride=(1, 1))\n",
              "            (act1): SiLU(inplace=True)\n",
              "            (conv_expand): Conv2d(48, 1152, kernel_size=(1, 1), stride=(1, 1))\n",
              "            (gate): Sigmoid()\n",
              "          )\n",
              "          (conv_pwl): Conv2d(1152, 320, kernel_size=(1, 1), stride=(1, 1), bias=False)\n",
              "          (bn3): BatchNormAct2d(\n",
              "            320, eps=1e-05, momentum=0.1, affine=True, track_running_stats=True\n",
              "            (drop): Identity()\n",
              "            (act): Identity()\n",
              "          )\n",
              "          (drop_path): Identity()\n",
              "        )\n",
              "      )\n",
              "    )\n",
              "    (conv_head): Conv2d(320, 1280, kernel_size=(1, 1), stride=(1, 1), bias=False)\n",
              "    (bn2): BatchNormAct2d(\n",
              "      1280, eps=1e-05, momentum=0.1, affine=True, track_running_stats=True\n",
              "      (drop): Identity()\n",
              "      (act): SiLU(inplace=True)\n",
              "    )\n",
              "    (global_pool): SelectAdaptivePool2d(pool_type=avg, flatten=Flatten(start_dim=1, end_dim=-1))\n",
              "    (classifier): Linear(in_features=1280, out_features=512, bias=True)\n",
              "  )\n",
              ")"
            ]
          },
          "metadata": {},
          "execution_count": 17
        }
      ],
      "source": [
        "model = APN_Model()\n",
        "model.to(DEVICE)"
      ]
    },
    {
      "cell_type": "markdown",
      "id": "6bec71fa",
      "metadata": {
        "papermill": {
          "duration": 0.016557,
          "end_time": "2023-05-14T06:39:22.809085",
          "exception": false,
          "start_time": "2023-05-14T06:39:22.792528",
          "status": "completed"
        },
        "tags": [],
        "id": "6bec71fa"
      },
      "source": [
        "# Create Train and Eval Function"
      ]
    },
    {
      "cell_type": "code",
      "execution_count": 18,
      "id": "bce86634",
      "metadata": {
        "execution": {
          "iopub.execute_input": "2023-05-14T06:39:22.846039Z",
          "iopub.status.busy": "2023-05-14T06:39:22.844935Z",
          "iopub.status.idle": "2023-05-14T06:39:22.853919Z",
          "shell.execute_reply": "2023-05-14T06:39:22.852687Z"
        },
        "papermill": {
          "duration": 0.030345,
          "end_time": "2023-05-14T06:39:22.856366",
          "exception": false,
          "start_time": "2023-05-14T06:39:22.826021",
          "status": "completed"
        },
        "tags": [],
        "id": "bce86634"
      },
      "outputs": [],
      "source": [
        "def train_fn(model, dataloader, optimizer, criterion):\n",
        "    model.train() # ON Dropout\n",
        "    total_loss = 0.0\n",
        "\n",
        "    for A,P,N in tqdm(dataloader):\n",
        "        A,P,N = A.to(DEVICE), P.to(DEVICE), N.to(DEVICE)\n",
        "\n",
        "        A_embs = model(A)\n",
        "        P_embs = model(P)\n",
        "        N_embs = model(N)\n",
        "\n",
        "        loss = criterion(A_embs, P_embs, N_embs)\n",
        "\n",
        "        optimizer.zero_grad()\n",
        "        loss.backward()\n",
        "        optimizer.step()\n",
        "\n",
        "        total_loss += loss.item()\n",
        "\n",
        "    return total_loss / len(dataloader)"
      ]
    },
    {
      "cell_type": "code",
      "execution_count": 19,
      "id": "7920148b",
      "metadata": {
        "execution": {
          "iopub.execute_input": "2023-05-14T06:39:22.893060Z",
          "iopub.status.busy": "2023-05-14T06:39:22.892745Z",
          "iopub.status.idle": "2023-05-14T06:39:22.900078Z",
          "shell.execute_reply": "2023-05-14T06:39:22.898905Z"
        },
        "papermill": {
          "duration": 0.027926,
          "end_time": "2023-05-14T06:39:22.902332",
          "exception": false,
          "start_time": "2023-05-14T06:39:22.874406",
          "status": "completed"
        },
        "tags": [],
        "id": "7920148b"
      },
      "outputs": [],
      "source": [
        "def eval_fn(model, dataloader, criterion):\n",
        "    model.eval()  # OFF Dropout\n",
        "    total_loss = 0.0\n",
        "\n",
        "    with torch.no_grad():\n",
        "        for A,P,N in tqdm(dataloader):\n",
        "            A,P,N = A.to(DEVICE), P.to(DEVICE), N.to(DEVICE)\n",
        "\n",
        "            A_embs = model(A)\n",
        "            P_embs = model(P)\n",
        "            N_embs = model(N)\n",
        "\n",
        "            loss = criterion(A_embs, P_embs, N_embs)\n",
        "\n",
        "            total_loss += loss.item()\n",
        "\n",
        "        return total_loss / len(dataloader)"
      ]
    },
    {
      "cell_type": "code",
      "execution_count": 20,
      "id": "86f37572",
      "metadata": {
        "execution": {
          "iopub.execute_input": "2023-05-14T06:39:22.937420Z",
          "iopub.status.busy": "2023-05-14T06:39:22.936575Z",
          "iopub.status.idle": "2023-05-14T06:39:22.943730Z",
          "shell.execute_reply": "2023-05-14T06:39:22.942670Z"
        },
        "papermill": {
          "duration": 0.027575,
          "end_time": "2023-05-14T06:39:22.946312",
          "exception": false,
          "start_time": "2023-05-14T06:39:22.918737",
          "status": "completed"
        },
        "tags": [],
        "id": "86f37572"
      },
      "outputs": [],
      "source": [
        "criterion = nn.TripletMarginLoss()\n",
        "optimizer = torch.optim.Adam(model.parameters(), lr = LR)"
      ]
    },
    {
      "cell_type": "markdown",
      "id": "1cbe4ccc",
      "metadata": {
        "papermill": {
          "duration": 0.016345,
          "end_time": "2023-05-14T06:39:22.979305",
          "exception": false,
          "start_time": "2023-05-14T06:39:22.962960",
          "status": "completed"
        },
        "tags": [],
        "id": "1cbe4ccc"
      },
      "source": [
        "# Create Training Loop"
      ]
    },
    {
      "cell_type": "code",
      "execution_count": null,
      "id": "e551ced4",
      "metadata": {
        "execution": {
          "iopub.execute_input": "2023-05-14T06:39:23.013920Z",
          "iopub.status.busy": "2023-05-14T06:39:23.013603Z",
          "iopub.status.idle": "2023-05-14T06:47:56.896045Z",
          "shell.execute_reply": "2023-05-14T06:47:56.894838Z"
        },
        "papermill": {
          "duration": 513.903153,
          "end_time": "2023-05-14T06:47:56.899044",
          "exception": false,
          "start_time": "2023-05-14T06:39:22.995891",
          "status": "completed"
        },
        "tags": [],
        "colab": {
          "base_uri": "https://localhost:8080/"
        },
        "id": "e551ced4",
        "outputId": "0370426b-9764-4243-90fe-fcc802a28741"
      },
      "outputs": [
        {
          "output_type": "stream",
          "name": "stderr",
          "text": [
            "100%|██████████| 100/100 [00:21<00:00,  4.64it/s]\n",
            "100%|██████████| 25/25 [00:03<00:00,  7.97it/s]\n"
          ]
        },
        {
          "output_type": "stream",
          "name": "stdout",
          "text": [
            "SAVED_WEIGHT_SUCCESS\n",
            "EPOCHS: 1 train_loss: 0.6391419821977615 valid_loss: 0.5715386152267456\n"
          ]
        },
        {
          "output_type": "stream",
          "name": "stderr",
          "text": [
            "100%|██████████| 100/100 [00:19<00:00,  5.11it/s]\n",
            "100%|██████████| 25/25 [00:03<00:00,  7.66it/s]\n"
          ]
        },
        {
          "output_type": "stream",
          "name": "stdout",
          "text": [
            "SAVED_WEIGHT_SUCCESS\n",
            "EPOCHS: 2 train_loss: 0.34633572831749915 valid_loss: 0.27922265768051147\n"
          ]
        },
        {
          "output_type": "stream",
          "name": "stderr",
          "text": [
            "100%|██████████| 100/100 [00:20<00:00,  4.88it/s]\n",
            "100%|██████████| 25/25 [00:03<00:00,  7.67it/s]\n"
          ]
        },
        {
          "output_type": "stream",
          "name": "stdout",
          "text": [
            "SAVED_WEIGHT_SUCCESS\n",
            "EPOCHS: 3 train_loss: 0.13300606712698937 valid_loss: 0.23766409754753112\n"
          ]
        },
        {
          "output_type": "stream",
          "name": "stderr",
          "text": [
            "100%|██████████| 100/100 [00:19<00:00,  5.09it/s]\n",
            " 24%|██▍       | 6/25 [00:00<00:02,  9.44it/s]"
          ]
        }
      ],
      "source": [
        "best_valid_loss = np.inf\n",
        "\n",
        "for i in range(EPOCHS):\n",
        "    train_loss = train_fn(model, trainloader, optimizer, criterion)\n",
        "    valid_loss = eval_fn(model, validloader, criterion)\n",
        "\n",
        "    if valid_loss < best_valid_loss:\n",
        "        torch.save(model.state_dict(), \"best_model.pt\")\n",
        "        best_valid_loss = valid_loss\n",
        "        print(\"SAVED_WEIGHT_SUCCESS\")\n",
        "\n",
        "    print(f\"EPOCHS: {i+1} train_loss: {train_loss} valid_loss: {valid_loss}\")"
      ]
    },
    {
      "cell_type": "markdown",
      "id": "d122ff4c",
      "metadata": {
        "papermill": {
          "duration": 0.162098,
          "end_time": "2023-05-14T06:47:57.223770",
          "exception": false,
          "start_time": "2023-05-14T06:47:57.061672",
          "status": "completed"
        },
        "tags": [],
        "id": "d122ff4c"
      },
      "source": [
        "# Get Anchor Embeddings"
      ]
    },
    {
      "cell_type": "code",
      "execution_count": null,
      "id": "53030aff",
      "metadata": {
        "execution": {
          "iopub.execute_input": "2023-05-14T06:47:57.610009Z",
          "iopub.status.busy": "2023-05-14T06:47:57.609314Z",
          "iopub.status.idle": "2023-05-14T06:47:57.618439Z",
          "shell.execute_reply": "2023-05-14T06:47:57.617438Z"
        },
        "papermill": {
          "duration": 0.17594,
          "end_time": "2023-05-14T06:47:57.620804",
          "exception": false,
          "start_time": "2023-05-14T06:47:57.444864",
          "status": "completed"
        },
        "tags": [],
        "id": "53030aff"
      },
      "outputs": [],
      "source": [
        "def get_encoding_csv(model, anc_img_names):\n",
        "    anc_img_names_arr = np.array(anc_img_names)\n",
        "    encodings = []\n",
        "\n",
        "    model.eval()\n",
        "    with torch.no_grad():\n",
        "        for i in tqdm(anc_img_names_arr):\n",
        "            A = io.imread(DATA_DIR + i)\n",
        "            A = torch.from_numpy(A).permute(2, 0, 1) / 255.0\n",
        "            A = A. to(DEVICE)\n",
        "            A_enc = model(A.unsqueeze(0)) # c,h,w --> (1,c,h,w)\n",
        "            encodings.append(A_enc.squeeze().cpu().detach().numpy())\n",
        "\n",
        "        encodings = np.array(encodings)\n",
        "        encodings = pd.DataFrame(encodings)\n",
        "        df_enc = pd.concat([anc_img_names, encodings], axis=1)\n",
        "\n",
        "    return df_enc"
      ]
    },
    {
      "cell_type": "code",
      "execution_count": null,
      "id": "8f07b5ac",
      "metadata": {
        "execution": {
          "iopub.execute_input": "2023-05-14T06:47:57.954401Z",
          "iopub.status.busy": "2023-05-14T06:47:57.953942Z",
          "iopub.status.idle": "2023-05-14T06:48:46.154845Z",
          "shell.execute_reply": "2023-05-14T06:48:46.153809Z"
        },
        "papermill": {
          "duration": 48.374111,
          "end_time": "2023-05-14T06:48:46.157472",
          "exception": false,
          "start_time": "2023-05-14T06:47:57.783361",
          "status": "completed"
        },
        "tags": [],
        "id": "8f07b5ac"
      },
      "outputs": [],
      "source": [
        "model.load_state_dict(torch.load(\"best_model.pt\"))\n",
        "df_enc = get_encoding_csv(model, df[\"Anchor\"])"
      ]
    },
    {
      "cell_type": "code",
      "execution_count": null,
      "id": "f87315cb",
      "metadata": {
        "execution": {
          "iopub.execute_input": "2023-05-14T06:48:46.549729Z",
          "iopub.status.busy": "2023-05-14T06:48:46.548613Z",
          "iopub.status.idle": "2023-05-14T06:48:48.825678Z",
          "shell.execute_reply": "2023-05-14T06:48:48.824543Z"
        },
        "papermill": {
          "duration": 2.47636,
          "end_time": "2023-05-14T06:48:48.828577",
          "exception": false,
          "start_time": "2023-05-14T06:48:46.352217",
          "status": "completed"
        },
        "tags": [],
        "id": "f87315cb"
      },
      "outputs": [],
      "source": [
        "df_enc.to_csv(\"database.csv\", index=False)\n",
        "df_enc.head()"
      ]
    },
    {
      "cell_type": "markdown",
      "id": "c76ef806",
      "metadata": {
        "papermill": {
          "duration": 0.194129,
          "end_time": "2023-05-14T06:48:49.224943",
          "exception": false,
          "start_time": "2023-05-14T06:48:49.030814",
          "status": "completed"
        },
        "tags": [],
        "id": "c76ef806"
      },
      "source": [
        "# Inference"
      ]
    },
    {
      "cell_type": "code",
      "execution_count": null,
      "id": "0e36e99b",
      "metadata": {
        "execution": {
          "iopub.execute_input": "2023-05-14T06:48:49.616073Z",
          "iopub.status.busy": "2023-05-14T06:48:49.615069Z",
          "iopub.status.idle": "2023-05-14T06:48:49.620964Z",
          "shell.execute_reply": "2023-05-14T06:48:49.619968Z"
        },
        "papermill": {
          "duration": 0.204349,
          "end_time": "2023-05-14T06:48:49.623261",
          "exception": false,
          "start_time": "2023-05-14T06:48:49.418912",
          "status": "completed"
        },
        "tags": [],
        "id": "0e36e99b"
      },
      "outputs": [],
      "source": [
        "def euclidean_dist(img_enc, anc_enc_arr):\n",
        "    dist = np.sqrt(np.dot(img_enc-anc_enc_arr, (img_enc - anc_enc_arr).T))\n",
        "    return dist"
      ]
    },
    {
      "cell_type": "code",
      "execution_count": null,
      "id": "8ae8796b",
      "metadata": {
        "execution": {
          "iopub.execute_input": "2023-05-14T06:48:50.022679Z",
          "iopub.status.busy": "2023-05-14T06:48:50.022280Z",
          "iopub.status.idle": "2023-05-14T06:48:50.045823Z",
          "shell.execute_reply": "2023-05-14T06:48:50.044856Z"
        },
        "papermill": {
          "duration": 0.22734,
          "end_time": "2023-05-14T06:48:50.048135",
          "exception": false,
          "start_time": "2023-05-14T06:48:49.820795",
          "status": "completed"
        },
        "tags": [],
        "id": "8ae8796b"
      },
      "outputs": [],
      "source": [
        "idx = 0\n",
        "img_name = df_enc[\"Anchor\"].iloc[idx]\n",
        "img_path = DATA_DIR + img_name\n",
        "\n",
        "img = io.imread(img_path)\n",
        "img = torch.from_numpy(img).permute(2, 0, 1) / 255.0\n",
        "\n",
        "model.eval()\n",
        "with torch.no_grad():\n",
        "    img = img.to(DEVICE)\n",
        "    img_enc = model(img.unsqueeze(0))\n",
        "    img_enc = img_enc.detach().cpu().numpy()"
      ]
    },
    {
      "cell_type": "code",
      "execution_count": null,
      "id": "211fa2e8",
      "metadata": {
        "execution": {
          "iopub.execute_input": "2023-05-14T06:48:50.444809Z",
          "iopub.status.busy": "2023-05-14T06:48:50.444103Z",
          "iopub.status.idle": "2023-05-14T06:48:50.451640Z",
          "shell.execute_reply": "2023-05-14T06:48:50.450564Z"
        },
        "papermill": {
          "duration": 0.206649,
          "end_time": "2023-05-14T06:48:50.453935",
          "exception": false,
          "start_time": "2023-05-14T06:48:50.247286",
          "status": "completed"
        },
        "tags": [],
        "id": "211fa2e8"
      },
      "outputs": [],
      "source": [
        "anc_enc_arr = df_enc.iloc[:, 1:].to_numpy()\n",
        "anc_img_names = df_enc[\"Anchor\"]"
      ]
    },
    {
      "cell_type": "code",
      "execution_count": null,
      "id": "ec748b6a",
      "metadata": {
        "execution": {
          "iopub.execute_input": "2023-05-14T06:48:50.922931Z",
          "iopub.status.busy": "2023-05-14T06:48:50.922556Z",
          "iopub.status.idle": "2023-05-14T06:48:50.996379Z",
          "shell.execute_reply": "2023-05-14T06:48:50.995228Z"
        },
        "papermill": {
          "duration": 0.348496,
          "end_time": "2023-05-14T06:48:50.999263",
          "exception": false,
          "start_time": "2023-05-14T06:48:50.650767",
          "status": "completed"
        },
        "tags": [],
        "id": "ec748b6a"
      },
      "outputs": [],
      "source": [
        "distance = []\n",
        "\n",
        "for i in range(anc_enc_arr.shape[0]):\n",
        "    dist = euclidean_dist(img_enc, anc_enc_arr[i : i+1, :])\n",
        "    distance = np.append(distance, dist)"
      ]
    },
    {
      "cell_type": "code",
      "execution_count": null,
      "id": "6fbb0f21",
      "metadata": {
        "execution": {
          "iopub.execute_input": "2023-05-14T06:48:51.547978Z",
          "iopub.status.busy": "2023-05-14T06:48:51.547269Z",
          "iopub.status.idle": "2023-05-14T06:48:51.553449Z",
          "shell.execute_reply": "2023-05-14T06:48:51.552483Z"
        },
        "papermill": {
          "duration": 0.358329,
          "end_time": "2023-05-14T06:48:51.558286",
          "exception": false,
          "start_time": "2023-05-14T06:48:51.199957",
          "status": "completed"
        },
        "tags": [],
        "id": "6fbb0f21"
      },
      "outputs": [],
      "source": [
        "closest_idx = np.argsort(distance)"
      ]
    },
    {
      "cell_type": "code",
      "execution_count": null,
      "id": "e9745d37",
      "metadata": {
        "execution": {
          "iopub.execute_input": "2023-05-14T06:48:52.167461Z",
          "iopub.status.busy": "2023-05-14T06:48:52.166991Z",
          "iopub.status.idle": "2023-05-14T06:48:53.576537Z",
          "shell.execute_reply": "2023-05-14T06:48:53.575582Z"
        },
        "papermill": {
          "duration": 1.721464,
          "end_time": "2023-05-14T06:48:53.583846",
          "exception": false,
          "start_time": "2023-05-14T06:48:51.862382",
          "status": "completed"
        },
        "tags": [],
        "id": "e9745d37"
      },
      "outputs": [],
      "source": [
        "from utils import plot_closest_imgs\n",
        "\n",
        "plot_closest_imgs(anc_img_names, DATA_DIR, img, img_path, closest_idx, distance, no_of_closest = 10);"
      ]
    },
    {
      "cell_type": "markdown",
      "id": "354e6eb4",
      "metadata": {
        "papermill": {
          "duration": 0.20888,
          "end_time": "2023-05-14T06:48:54.002215",
          "exception": false,
          "start_time": "2023-05-14T06:48:53.793335",
          "status": "completed"
        },
        "tags": [],
        "id": "354e6eb4"
      },
      "source": [
        "# Resources\n",
        "\n",
        "* [How to train your siamese neural network](https://towardsdatascience.com/how-to-train-your-siamese-neural-network-4c6da3259463)"
      ]
    },
    {
      "cell_type": "code",
      "source": [],
      "metadata": {
        "id": "XnEtFT8yY7fs"
      },
      "id": "XnEtFT8yY7fs",
      "execution_count": null,
      "outputs": []
    }
  ],
  "metadata": {
    "kernelspec": {
      "display_name": "Python 3",
      "name": "python3"
    },
    "language_info": {
      "codemirror_mode": {
        "name": "ipython",
        "version": 3
      },
      "file_extension": ".py",
      "mimetype": "text/x-python",
      "name": "python",
      "nbconvert_exporter": "python",
      "pygments_lexer": "ipython3",
      "version": "3.7.12"
    },
    "papermill": {
      "default_parameters": {},
      "duration": 630.323784,
      "end_time": "2023-05-14T06:48:56.841972",
      "environment_variables": {},
      "exception": null,
      "input_path": "__notebook__.ipynb",
      "output_path": "__notebook__.ipynb",
      "parameters": {},
      "start_time": "2023-05-14T06:38:26.518188",
      "version": "2.4.0"
    },
    "colab": {
      "provenance": [],
      "gpuType": "T4",
      "include_colab_link": true
    },
    "accelerator": "GPU",
    "widgets": {
      "application/vnd.jupyter.widget-state+json": {
        "3cfe3c1495f44e59aef6437bcec60e68": {
          "model_module": "@jupyter-widgets/controls",
          "model_name": "HBoxModel",
          "model_module_version": "1.5.0",
          "state": {
            "_dom_classes": [],
            "_model_module": "@jupyter-widgets/controls",
            "_model_module_version": "1.5.0",
            "_model_name": "HBoxModel",
            "_view_count": null,
            "_view_module": "@jupyter-widgets/controls",
            "_view_module_version": "1.5.0",
            "_view_name": "HBoxView",
            "box_style": "",
            "children": [
              "IPY_MODEL_b2725f79783e46daae95af8460321068",
              "IPY_MODEL_06d31f40af7b4bab9e70d1e43092efc7",
              "IPY_MODEL_0e15032d974d4869b51e03c4a14434fa"
            ],
            "layout": "IPY_MODEL_7ef4f1b34dfb4c7b9063778012a174f7"
          }
        },
        "b2725f79783e46daae95af8460321068": {
          "model_module": "@jupyter-widgets/controls",
          "model_name": "HTMLModel",
          "model_module_version": "1.5.0",
          "state": {
            "_dom_classes": [],
            "_model_module": "@jupyter-widgets/controls",
            "_model_module_version": "1.5.0",
            "_model_name": "HTMLModel",
            "_view_count": null,
            "_view_module": "@jupyter-widgets/controls",
            "_view_module_version": "1.5.0",
            "_view_name": "HTMLView",
            "description": "",
            "description_tooltip": null,
            "layout": "IPY_MODEL_76b1c12cb7264ce8928d8a55f1909e7d",
            "placeholder": "​",
            "style": "IPY_MODEL_d39bb7a873ad4a2db6c5e7c1b47d8a57",
            "value": "model.safetensors: 100%"
          }
        },
        "06d31f40af7b4bab9e70d1e43092efc7": {
          "model_module": "@jupyter-widgets/controls",
          "model_name": "FloatProgressModel",
          "model_module_version": "1.5.0",
          "state": {
            "_dom_classes": [],
            "_model_module": "@jupyter-widgets/controls",
            "_model_module_version": "1.5.0",
            "_model_name": "FloatProgressModel",
            "_view_count": null,
            "_view_module": "@jupyter-widgets/controls",
            "_view_module_version": "1.5.0",
            "_view_name": "ProgressView",
            "bar_style": "success",
            "description": "",
            "description_tooltip": null,
            "layout": "IPY_MODEL_82c85a649f4d4cb48238d835a82d2a1d",
            "max": 21355344,
            "min": 0,
            "orientation": "horizontal",
            "style": "IPY_MODEL_be97735973c844378b5e77380b2835d8",
            "value": 21355344
          }
        },
        "0e15032d974d4869b51e03c4a14434fa": {
          "model_module": "@jupyter-widgets/controls",
          "model_name": "HTMLModel",
          "model_module_version": "1.5.0",
          "state": {
            "_dom_classes": [],
            "_model_module": "@jupyter-widgets/controls",
            "_model_module_version": "1.5.0",
            "_model_name": "HTMLModel",
            "_view_count": null,
            "_view_module": "@jupyter-widgets/controls",
            "_view_module_version": "1.5.0",
            "_view_name": "HTMLView",
            "description": "",
            "description_tooltip": null,
            "layout": "IPY_MODEL_d74c4389a690401bbd1b958608452df4",
            "placeholder": "​",
            "style": "IPY_MODEL_0132ea1a8c5842f288f09f9efb7d55aa",
            "value": " 21.4M/21.4M [00:00&lt;00:00, 61.6MB/s]"
          }
        },
        "7ef4f1b34dfb4c7b9063778012a174f7": {
          "model_module": "@jupyter-widgets/base",
          "model_name": "LayoutModel",
          "model_module_version": "1.2.0",
          "state": {
            "_model_module": "@jupyter-widgets/base",
            "_model_module_version": "1.2.0",
            "_model_name": "LayoutModel",
            "_view_count": null,
            "_view_module": "@jupyter-widgets/base",
            "_view_module_version": "1.2.0",
            "_view_name": "LayoutView",
            "align_content": null,
            "align_items": null,
            "align_self": null,
            "border": null,
            "bottom": null,
            "display": null,
            "flex": null,
            "flex_flow": null,
            "grid_area": null,
            "grid_auto_columns": null,
            "grid_auto_flow": null,
            "grid_auto_rows": null,
            "grid_column": null,
            "grid_gap": null,
            "grid_row": null,
            "grid_template_areas": null,
            "grid_template_columns": null,
            "grid_template_rows": null,
            "height": null,
            "justify_content": null,
            "justify_items": null,
            "left": null,
            "margin": null,
            "max_height": null,
            "max_width": null,
            "min_height": null,
            "min_width": null,
            "object_fit": null,
            "object_position": null,
            "order": null,
            "overflow": null,
            "overflow_x": null,
            "overflow_y": null,
            "padding": null,
            "right": null,
            "top": null,
            "visibility": null,
            "width": null
          }
        },
        "76b1c12cb7264ce8928d8a55f1909e7d": {
          "model_module": "@jupyter-widgets/base",
          "model_name": "LayoutModel",
          "model_module_version": "1.2.0",
          "state": {
            "_model_module": "@jupyter-widgets/base",
            "_model_module_version": "1.2.0",
            "_model_name": "LayoutModel",
            "_view_count": null,
            "_view_module": "@jupyter-widgets/base",
            "_view_module_version": "1.2.0",
            "_view_name": "LayoutView",
            "align_content": null,
            "align_items": null,
            "align_self": null,
            "border": null,
            "bottom": null,
            "display": null,
            "flex": null,
            "flex_flow": null,
            "grid_area": null,
            "grid_auto_columns": null,
            "grid_auto_flow": null,
            "grid_auto_rows": null,
            "grid_column": null,
            "grid_gap": null,
            "grid_row": null,
            "grid_template_areas": null,
            "grid_template_columns": null,
            "grid_template_rows": null,
            "height": null,
            "justify_content": null,
            "justify_items": null,
            "left": null,
            "margin": null,
            "max_height": null,
            "max_width": null,
            "min_height": null,
            "min_width": null,
            "object_fit": null,
            "object_position": null,
            "order": null,
            "overflow": null,
            "overflow_x": null,
            "overflow_y": null,
            "padding": null,
            "right": null,
            "top": null,
            "visibility": null,
            "width": null
          }
        },
        "d39bb7a873ad4a2db6c5e7c1b47d8a57": {
          "model_module": "@jupyter-widgets/controls",
          "model_name": "DescriptionStyleModel",
          "model_module_version": "1.5.0",
          "state": {
            "_model_module": "@jupyter-widgets/controls",
            "_model_module_version": "1.5.0",
            "_model_name": "DescriptionStyleModel",
            "_view_count": null,
            "_view_module": "@jupyter-widgets/base",
            "_view_module_version": "1.2.0",
            "_view_name": "StyleView",
            "description_width": ""
          }
        },
        "82c85a649f4d4cb48238d835a82d2a1d": {
          "model_module": "@jupyter-widgets/base",
          "model_name": "LayoutModel",
          "model_module_version": "1.2.0",
          "state": {
            "_model_module": "@jupyter-widgets/base",
            "_model_module_version": "1.2.0",
            "_model_name": "LayoutModel",
            "_view_count": null,
            "_view_module": "@jupyter-widgets/base",
            "_view_module_version": "1.2.0",
            "_view_name": "LayoutView",
            "align_content": null,
            "align_items": null,
            "align_self": null,
            "border": null,
            "bottom": null,
            "display": null,
            "flex": null,
            "flex_flow": null,
            "grid_area": null,
            "grid_auto_columns": null,
            "grid_auto_flow": null,
            "grid_auto_rows": null,
            "grid_column": null,
            "grid_gap": null,
            "grid_row": null,
            "grid_template_areas": null,
            "grid_template_columns": null,
            "grid_template_rows": null,
            "height": null,
            "justify_content": null,
            "justify_items": null,
            "left": null,
            "margin": null,
            "max_height": null,
            "max_width": null,
            "min_height": null,
            "min_width": null,
            "object_fit": null,
            "object_position": null,
            "order": null,
            "overflow": null,
            "overflow_x": null,
            "overflow_y": null,
            "padding": null,
            "right": null,
            "top": null,
            "visibility": null,
            "width": null
          }
        },
        "be97735973c844378b5e77380b2835d8": {
          "model_module": "@jupyter-widgets/controls",
          "model_name": "ProgressStyleModel",
          "model_module_version": "1.5.0",
          "state": {
            "_model_module": "@jupyter-widgets/controls",
            "_model_module_version": "1.5.0",
            "_model_name": "ProgressStyleModel",
            "_view_count": null,
            "_view_module": "@jupyter-widgets/base",
            "_view_module_version": "1.2.0",
            "_view_name": "StyleView",
            "bar_color": null,
            "description_width": ""
          }
        },
        "d74c4389a690401bbd1b958608452df4": {
          "model_module": "@jupyter-widgets/base",
          "model_name": "LayoutModel",
          "model_module_version": "1.2.0",
          "state": {
            "_model_module": "@jupyter-widgets/base",
            "_model_module_version": "1.2.0",
            "_model_name": "LayoutModel",
            "_view_count": null,
            "_view_module": "@jupyter-widgets/base",
            "_view_module_version": "1.2.0",
            "_view_name": "LayoutView",
            "align_content": null,
            "align_items": null,
            "align_self": null,
            "border": null,
            "bottom": null,
            "display": null,
            "flex": null,
            "flex_flow": null,
            "grid_area": null,
            "grid_auto_columns": null,
            "grid_auto_flow": null,
            "grid_auto_rows": null,
            "grid_column": null,
            "grid_gap": null,
            "grid_row": null,
            "grid_template_areas": null,
            "grid_template_columns": null,
            "grid_template_rows": null,
            "height": null,
            "justify_content": null,
            "justify_items": null,
            "left": null,
            "margin": null,
            "max_height": null,
            "max_width": null,
            "min_height": null,
            "min_width": null,
            "object_fit": null,
            "object_position": null,
            "order": null,
            "overflow": null,
            "overflow_x": null,
            "overflow_y": null,
            "padding": null,
            "right": null,
            "top": null,
            "visibility": null,
            "width": null
          }
        },
        "0132ea1a8c5842f288f09f9efb7d55aa": {
          "model_module": "@jupyter-widgets/controls",
          "model_name": "DescriptionStyleModel",
          "model_module_version": "1.5.0",
          "state": {
            "_model_module": "@jupyter-widgets/controls",
            "_model_module_version": "1.5.0",
            "_model_name": "DescriptionStyleModel",
            "_view_count": null,
            "_view_module": "@jupyter-widgets/base",
            "_view_module_version": "1.2.0",
            "_view_name": "StyleView",
            "description_width": ""
          }
        }
      }
    }
  },
  "nbformat": 4,
  "nbformat_minor": 5
}